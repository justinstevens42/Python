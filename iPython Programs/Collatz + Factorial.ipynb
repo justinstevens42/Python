{
 "cells": [
  {
   "cell_type": "code",
   "execution_count": null,
   "metadata": {
    "collapsed": false
   },
   "outputs": [],
   "source": [
    "import pylab as pl\n",
    "\n",
    "def Collatz(n):\n",
    "    \"\"\"Inputs an integer n, outputs the number of moves that by way of the Colbatz conjecture give back to 1.\"\"\"\n",
    "    counter=0\n",
    "    while n!=1:\n",
    "        if n%2==0:\n",
    "     \n",
    "            n=n/2\n",
    "            counter+=1\n",
    "        if n%2==1 and n!=1:\n",
    "\n",
    "            n=(3*n+1)\n",
    "            counter+=1\n",
    "    return counter\n",
    "\n",
    "\n",
    "t= pl.linspace(1, 10**8, 10**8)\n",
    "y=[]\n",
    "for i in range(1,10**8+1):\n",
    "    y.append(Collatz(i))\n",
    "pl.plot(t,y)\n",
    "pl.show()\n",
    "pl.savefig(\"figName.png\")\n",
    "\n",
    "\n",
    "def main():\n",
    "    dictionary={}\n",
    "    for i in range(1,100):\n",
    "        dictionary[i]=Collatz(i)\n",
    "    print dictionary\n",
    "\n",
    "\n",
    "        "
   ]
  },
  {
   "cell_type": "code",
   "execution_count": 4,
   "metadata": {
    "collapsed": true
   },
   "outputs": [],
   "source": [
    "import pylab as pl\n",
    "t = pl.linspace(-pl.pi, pl.pi, 10000)  \n",
    "y = -t+3*pl.cos(2*t)\n",
    "pl.plot(t, y)\n",
    "pl.show()\n",
    "pl.savefig(\"figName.png\")  # produce a .png file\n",
    "pl.savefig(\"figName.eps\")  # produce a .eps file"
   ]
  },
  {
   "cell_type": "code",
   "execution_count": 17,
   "metadata": {
    "collapsed": true
   },
   "outputs": [],
   "source": [
    "t= pl.linspace(1, 1.5, 2)\n",
    "y=t\n",
    "pl.plot(t,y)\n",
    "pl.show()\n",
    "pl.savefig(\"figName.png\")\n",
    "pl.savefig(\"figName.eps\")"
   ]
  },
  {
   "cell_type": "code",
   "execution_count": 6,
   "metadata": {
    "collapsed": false
   },
   "outputs": [
    {
     "name": "stdout",
     "output_type": "stream",
     "text": [
      "The starting value that gives the largest number of moves is 837799 and it gives 524 moves\n",
      "Time taken:  10.936797 seconds\n"
     ]
    }
   ],
   "source": [
    "from time import clock\n",
    "\n",
    "start=clock()\n",
    "def Collatz(n):\n",
    "    if n==1:\n",
    "        return 0\n",
    "    if n%2==0:\n",
    "        return Collatz(n/2)+1\n",
    "    if n%2==1:\n",
    "        return Collatz(3*n+1)+1\n",
    "    \n",
    "largest=100\n",
    "for i in range(3, 10**6-1,2):\n",
    "    if Collatz(i)>largest:\n",
    "        largest=Collatz(i)\n",
    "        value=i\n",
    "print \"The starting value that gives the largest number of moves is\", value, \"and it gives\", largest, \"moves\"\n",
    "print \"Time taken: \", (clock()-start) , \"seconds\"\n"
   ]
  },
  {
   "cell_type": "code",
   "execution_count": 12,
   "metadata": {
    "collapsed": false
   },
   "outputs": [
    {
     "data": {
      "text/plain": [
       "118"
      ]
     },
     "execution_count": 12,
     "metadata": {},
     "output_type": "execute_result"
    }
   ],
   "source": [
    "Collatz(97)"
   ]
  },
  {
   "cell_type": "code",
   "execution_count": 16,
   "metadata": {
    "collapsed": true
   },
   "outputs": [],
   "source": [
    "def collatz(n):\n",
    "    if n == 1:\n",
    "        return 1\n",
    "    if n%2 == 0:\n",
    "        return [n]+[collatz(n/2)]\n",
    "    if n%2 == 1:\n",
    "        return [n]+[collatz((3*n)+1)]"
   ]
  },
  {
   "cell_type": "code",
   "execution_count": 18,
   "metadata": {
    "collapsed": false
   },
   "outputs": [
    {
     "data": {
      "text/plain": [
       "2"
      ]
     },
     "execution_count": 18,
     "metadata": {},
     "output_type": "execute_result"
    }
   ],
   "source": [
    "len(collatz(10))"
   ]
  },
  {
   "cell_type": "code",
   "execution_count": 77,
   "metadata": {
    "collapsed": false
   },
   "outputs": [
    {
     "name": "stdout",
     "output_type": "stream",
     "text": [
      "Number with longest path (524) is 837799\n",
      "Time taken:  1.609613 seconds\n"
     ]
    }
   ],
   "source": [
    "from time import clock\n",
    "\n",
    "start=clock()\n",
    "def length_to_one(n, table):\n",
    "    \"\"\"\n",
    "    Calculate path length from 'n' to 1 (including both) according to Collatz\n",
    "    problem rules. Save the result to 'table' dictionary for future\n",
    "    reference.\n",
    "    :type n: int\n",
    "    :type table: dict\n",
    "    \"\"\"\n",
    "    if n == 1:\n",
    "        return 0\n",
    "\n",
    "    if n not in table:\n",
    "        # Path length from number 'n' to the end is equal\n",
    "        # to path length of 'n - 1' to the end + 1\n",
    "        if n % 2 == 0:\n",
    "            next_n = n // 2\n",
    "        else:\n",
    "            next_n = 3 * n + 1\n",
    "        table[n] = length_to_one(next_n, table) + 1\n",
    "\n",
    "    return table[n]\n",
    "\n",
    "\n",
    "if __name__ == '__main__':\n",
    "    COLLATZ = dict()\n",
    "    max_length = 0\n",
    "    max_num = 0\n",
    "\n",
    "    for i in range(1, 1000000):\n",
    "        l = length_to_one(i, table=COLLATZ)\n",
    "        if l > max_length:\n",
    "            max_length = l\n",
    "            max_num = i\n",
    "\n",
    "print('Number with longest path ({}) is {}'.format(max_length, max_num))\n",
    "print \"Time taken: \", (clock()-start) , \"seconds\""
   ]
  },
  {
   "cell_type": "code",
   "execution_count": 78,
   "metadata": {
    "collapsed": false
   },
   "outputs": [
    {
     "name": "stdout",
     "output_type": "stream",
     "text": [
      "the key name is 2 and its value is 1\n",
      "the key name is 3 and its value is 7\n",
      "the key name is 4 and its value is 2\n",
      "the key name is 5 and its value is 5\n",
      "the key name is 6 and its value is 8\n",
      "the key name is 7 and its value is 16\n",
      "the key name is 8 and its value is 3\n",
      "the key name is 9 and its value is 19\n",
      "the key name is 10 and its value is 6\n",
      "the key name is 11 and its value is 14\n",
      "the key name is 12 and its value is 9\n",
      "the key name is 13 and its value is 9\n",
      "the key name is 14 and its value is 17\n",
      "the key name is 15 and its value is 17\n",
      "the key name is 16 and its value is 4\n",
      "the key name is 17 and its value is 12\n",
      "the key name is 18 and its value is 20\n",
      "the key name is 19 and its value is 20\n",
      "the key name is 20 and its value is 7\n",
      "the key name is 21 and its value is 7\n",
      "the key name is 22 and its value is 15\n",
      "the key name is 23 and its value is 15\n",
      "the key name is 24 and its value is 10\n",
      "the key name is 25 and its value is 23\n",
      "the key name is 26 and its value is 10\n",
      "the key name is 27 and its value is 111\n",
      "the key name is 28 and its value is 18\n",
      "the key name is 29 and its value is 18\n",
      "the key name is 30 and its value is 18\n",
      "the key name is 3077 and its value is 35\n",
      "the key name is 32 and its value is 5\n",
      "the key name is 33 and its value is 26\n",
      "the key name is 34 and its value is 13\n",
      "the key name is 35 and its value is 13\n",
      "the key name is 36 and its value is 21\n",
      "the key name is 4102 and its value is 38\n",
      "the key name is 38 and its value is 21\n",
      "the key name is 39 and its value is 34\n",
      "the key name is 40 and its value is 8\n",
      "the key name is 41 and its value is 109\n",
      "the key name is 42 and its value is 8\n",
      "the key name is 43 and its value is 29\n",
      "the key name is 44 and its value is 16\n",
      "the key name is 45 and its value is 16\n",
      "the key name is 46 and its value is 16\n",
      "the key name is 47 and its value is 104\n",
      "the key name is 48 and its value is 11\n",
      "the key name is 4616 and its value is 33\n",
      "the key name is 50 and its value is 24\n",
      "the key name is 51 and its value is 24\n",
      "the key name is 52 and its value is 11\n",
      "the key name is 53 and its value is 11\n",
      "the key name is 566 and its value is 61\n",
      "the key name is 1079 and its value is 49\n",
      "the key name is 56 and its value is 19\n",
      "the key name is 57 and its value is 32\n",
      "the key name is 58 and its value is 19\n",
      "the key name is 59 and its value is 32\n",
      "the key name is 3644 and its value is 43\n",
      "the key name is 61 and its value is 19\n",
      "the key name is 62 and its value is 107\n",
      "the key name is 63 and its value is 107\n",
      "the key name is 64 and its value is 6\n",
      "the key name is 577 and its value is 30\n",
      "the key name is 66 and its value is 27\n",
      "the key name is 67 and its value is 27\n",
      "the key name is 68 and its value is 14\n",
      "the key name is 69 and its value is 14\n",
      "the key name is 70 and its value is 14\n",
      "the key name is 71 and its value is 102\n",
      "the key name is 72 and its value is 22\n",
      "the key name is 73 and its value is 115\n",
      "the key name is 74 and its value is 22\n",
      "the key name is 75 and its value is 14\n",
      "the key name is 76 and its value is 22\n",
      "the key name is 77 and its value is 22\n",
      "the key name is 78 and its value is 35\n",
      "the key name is 269 and its value is 29\n",
      "the key name is 80 and its value is 9\n",
      "the key name is 593 and its value is 74\n",
      "the key name is 82 and its value is 110\n",
      "the key name is 1619 and its value is 47\n",
      "the key name is 84 and its value is 9\n",
      "the key name is 526 and its value is 79\n",
      "the key name is 86 and its value is 30\n",
      "the key name is 87 and its value is 30\n",
      "the key name is 88 and its value is 17\n",
      "the key name is 89 and its value is 30\n",
      "the key name is 90 and its value is 17\n",
      "the key name is 91 and its value is 92\n",
      "the key name is 92 and its value is 17\n",
      "the key name is 93 and its value is 17\n",
      "the key name is 94 and its value is 105\n",
      "the key name is 95 and its value is 105\n",
      "the key name is 96 and its value is 12\n",
      "the key name is 9232 and its value is 34\n",
      "the key name is 98 and its value is 25\n",
      "the key name is 99 and its value is 25\n",
      "the key name is 100 and its value is 25\n",
      "the key name is 101 and its value is 25\n",
      "the key name is 103 and its value is 87\n",
      "the key name is 104 and its value is 12\n",
      "the key name is 188 and its value is 106\n",
      "the key name is 106 and its value is 12\n",
      "the key name is 107 and its value is 100\n",
      "the key name is 1132 and its value is 62\n",
      "the key name is 2158 and its value is 50\n",
      "the key name is 112 and its value is 20\n",
      "the key name is 113 and its value is 12\n",
      "the key name is 116 and its value is 20\n",
      "the key name is 118 and its value is 33\n",
      "the key name is 119 and its value is 33\n",
      "the key name is 7288 and its value is 44\n",
      "the key name is 121 and its value is 95\n",
      "the key name is 122 and its value is 20\n",
      "the key name is 124 and its value is 108\n",
      "the key name is 125 and its value is 108\n",
      "the key name is 638 and its value is 56\n",
      "the key name is 128 and its value is 7\n",
      "the key name is 1154 and its value is 31\n",
      "the key name is 131 and its value is 28\n",
      "the key name is 134 and its value is 28\n",
      "the key name is 136 and its value is 15\n",
      "the key name is 137 and its value is 90\n",
      "the key name is 650 and its value is 25\n",
      "the key name is 140 and its value is 15\n",
      "the key name is 142 and its value is 103\n",
      "the key name is 143 and its value is 103\n",
      "the key name is 146 and its value is 116\n",
      "the key name is 148 and its value is 23\n",
      "the key name is 110 and its value is 113\n",
      "the key name is 152 and its value is 23\n",
      "the key name is 196 and its value is 26\n",
      "the key name is 154 and its value is 23\n",
      "the key name is 155 and its value is 85\n",
      "the key name is 668 and its value is 69\n",
      "the key name is 538 and its value is 30\n",
      "the key name is 160 and its value is 10\n",
      "the key name is 161 and its value is 98\n",
      "the key name is 1186 and its value is 75\n",
      "the key name is 3238 and its value is 48\n",
      "the key name is 167 and its value is 67\n",
      "the key name is 170 and its value is 10\n",
      "the key name is 172 and its value is 31\n",
      "the key name is 2734 and its value is 40\n",
      "the key name is 175 and its value is 80\n",
      "the key name is 178 and its value is 31\n",
      "the key name is 179 and its value is 31\n",
      "the key name is 286 and its value is 104\n",
      "the key name is 182 and its value is 93\n",
      "the key name is 184 and its value is 18\n",
      "the key name is 31 and its value is 106\n",
      "the key name is 700 and its value is 82\n",
      "the key name is 190 and its value is 106\n",
      "the key name is 1732 and its value is 29\n",
      "the key name is 197 and its value is 26\n",
      "the key name is 202 and its value is 26\n",
      "the key name is 206 and its value is 88\n",
      "the key name is 719 and its value is 51\n",
      "the key name is 208 and its value is 13\n",
      "the key name is 214 and its value is 101\n",
      "the key name is 215 and its value is 101\n",
      "the key name is 728 and its value is 95\n",
      "the key name is 220 and its value is 114\n",
      "the key name is 37 and its value is 21\n",
      "the key name is 224 and its value is 21\n",
      "the key name is 226 and its value is 13\n",
      "the key name is 232 and its value is 21\n",
      "the key name is 233 and its value is 83\n",
      "the key name is 238 and its value is 34\n",
      "the key name is 296 and its value is 24\n",
      "the key name is 754 and its value is 64\n",
      "the key name is 244 and its value is 21\n",
      "the key name is 4858 and its value is 46\n",
      "the key name is 251 and its value is 65\n",
      "the key name is 1276 and its value is 57\n",
      "the key name is 256 and its value is 8\n",
      "the key name is 2308 and its value is 32\n",
      "the key name is 262 and its value is 29\n",
      "the key name is 263 and its value is 78\n",
      "the key name is 268 and its value is 29\n",
      "the key name is 130 and its value is 28\n",
      "the key name is 274 and its value is 91\n",
      "the key name is 1300 and its value is 26\n",
      "the key name is 790 and its value is 77\n",
      "the key name is 280 and its value is 16\n",
      "the key name is 283 and its value is 60\n",
      "the key name is 1822 and its value is 42\n",
      "the key name is 2051 and its value is 37\n",
      "the key name is 292 and its value is 117\n",
      "the key name is 646 and its value is 100\n",
      "the key name is 49 and its value is 24\n",
      "the key name is 808 and its value is 28\n",
      "the key name is 298 and its value is 24\n",
      "the key name is 304 and its value is 24\n",
      "the key name is 310 and its value is 86\n",
      "the key name is 1336 and its value is 70\n",
      "the key name is 319 and its value is 55\n",
      "the key name is 322 and its value is 99\n",
      "the key name is 323 and its value is 99\n",
      "the key name is 325 and its value is 24\n",
      "the key name is 55 and its value is 112\n",
      "the key name is 334 and its value is 68\n",
      "the key name is 850 and its value is 59\n",
      "the key name is 340 and its value is 11\n",
      "the key name is 1367 and its value is 39\n",
      "the key name is 350 and its value is 81\n",
      "the key name is 485 and its value is 97\n",
      "the key name is 866 and its value is 28\n",
      "the key name is 358 and its value is 32\n",
      "the key name is 97 and its value is 118\n",
      "the key name is 60 and its value is 19\n",
      "the key name is 364 and its value is 94\n",
      "the key name is 376 and its value is 107\n",
      "the key name is 377 and its value is 63\n",
      "the key name is 890 and its value is 72\n",
      "the key name is 2429 and its value is 45\n",
      "the key name is 149 and its value is 23\n",
      "the key name is 65 and its value is 27\n",
      "the key name is 394 and its value is 27\n",
      "the key name is 395 and its value is 76\n",
      "the key name is 911 and its value is 41\n",
      "the key name is 404 and its value is 27\n",
      "the key name is 412 and its value is 89\n",
      "the key name is 1438 and its value is 52\n",
      "the key name is 425 and its value is 58\n",
      "the key name is 242 and its value is 96\n",
      "the key name is 430 and its value is 102\n",
      "the key name is 1456 and its value is 96\n",
      "the key name is 433 and its value is 27\n",
      "the key name is 1780 and its value is 73\n",
      "the key name is 445 and its value is 71\n",
      "the key name is 958 and its value is 54\n",
      "the key name is 448 and its value is 22\n",
      "the key name is 54 and its value is 112\n",
      "the key name is 970 and its value is 98\n",
      "the key name is 976 and its value is 23\n",
      "the key name is 466 and its value is 84\n",
      "the key name is 79 and its value is 35\n",
      "the key name is 250 and its value is 109\n",
      "the key name is 479 and its value is 53\n",
      "the key name is 592 and its value is 25\n",
      "the key name is 484 and its value is 97\n",
      "the key name is 166 and its value is 111\n",
      "the key name is 81 and its value is 22\n",
      "the key name is 488 and its value is 22\n",
      "the key name is 6154 and its value is 36\n",
      "the key name is 83 and its value is 110\n",
      "the key name is 502 and its value is 66\n",
      "the key name is 85 and its value is 9\n"
     ]
    }
   ],
   "source": [
    "COLLATZ=dict()\n",
    "for i in range(1, 10**2):\n",
    "    l=length_to_one(i, table=COLLATZ)\n",
    "for key in COLLATZ.keys():\n",
    "     print \"the key name is\", key  , \"and its value is\", COLLATZ[key]"
   ]
  },
  {
   "cell_type": "code",
   "execution_count": 76,
   "metadata": {
    "collapsed": false
   },
   "outputs": [
    {
     "data": {
      "text/plain": [
       "106"
      ]
     },
     "execution_count": 76,
     "metadata": {},
     "output_type": "execute_result"
    }
   ],
   "source": [
    "Collatz(190)"
   ]
  },
  {
   "cell_type": "code",
   "execution_count": 61,
   "metadata": {
    "collapsed": false
   },
   "outputs": [
    {
     "name": "stdout",
     "output_type": "stream",
     "text": [
      "67526802209645841583879061361800814224269427869589384312198268703685091643180416969132446952698303794226010370578672908593198347699886928591906501031587651846976759681112609524787093848004428636186893395272784450630354080243217646658024696659065951793757223520229235577548653833681102170973893746054649126415909143150172860721156685810655759230011450132992176454983227538696340112610447029002337004887877266387704586077293585433151612518800147764461182680822867092786694982831838641800997499819339206579415325649748486265233918911087114592440896594062675914294925816719862178374679272092637524786939036290035924271782253738059886933923447877769583003016705363339031413069155837518524761078342052635475632113169618774549275701480106933362990003732589370593557325299434734459295866728988740794174654391479926000848846686708729736713207285203712732201272410830836913052635365082888725171636081587151603468291106754640398232146673627370895934090777828827549554232436190464827998683927179246029919443251026464452337939599198528297828591122689960620361238248313158071643395848405047261412680039877733761849874447323867911712630023171745968278465780558568067035013885275080292137360491875164947724464221693533755035300065350065137490832039523382963747026185653050331832380991844842560750923543775188582096487476950254418365198999674684417286265442786651594404781622946901879166382930714196908227460133027605817864877377712193142137625430353718448269390732615776645283198828602917680224041088993892610506802195917247838900106910698057030379190571057605849323113308634452008179881165616449767648354161225066967961297609698742737923389391615207441152319392845687673311899247085327703421862972871644495409572259985563215471482083325653231777113271326579970310755604973969708949477374254974480294652427022436705380184064008853457214518515270985563195412993145274057688634448812449445800617631162768243125606424844709372022149908463572254912654907763445758543980999149122998104378965626781898655221443263601405152073199706585080288735040205417371277253096243200000000000000000000000000000000000000000000000000000000000000000000000000000000000000000000000000000000000000000000000000000000000000000000000000000000000000000000000000000000000000000000000000000000000000000000000000000000\n",
      "Time taken:  1.30600000011 miliseconds\n"
     ]
    }
   ],
   "source": [
    "from time import clock\n",
    "start=clock()\n",
    "def Factorial(n):\n",
    "    if n==1:\n",
    "        return 1\n",
    "    return n*Factorial(n-1)\n",
    "print Factorial(900)\n",
    "print \"Time taken: \", 1000*(clock()-start) , \"miliseconds\"\n"
   ]
  },
  {
   "cell_type": "code",
   "execution_count": 56,
   "metadata": {
    "collapsed": false
   },
   "outputs": [
    {
     "name": "stdout",
     "output_type": "stream",
     "text": [
      "64034522846623895262347970319503005850702583026002959458684445942802397169186831436278478647463264676294350575035856810848298162883517435228961988646802997937341654150838162426461942352307046244325015114448670890662773914918117331955996440709549671345290477020322434911210797593280795101545372667251627877890009349763765710326350331533965349868386831339352024373788157786791506311858702618270169819740062983025308591298346162272304558339520759611505302236086810433297255194852674432232438669948422404232599805551610635942376961399231917134063858996537970147827206606320217379472010321356624613809077942304597360699567595836096158715129913822286578579549361617654480453222007825818400848436415591229454275384803558374518022675900061399560145595206127211192918105032491008000000000000000000000000000000000000000000000000000000000000000000000000000000000000000000000000000\n",
      "Time taken:  0.355000000127 miliseconds\n"
     ]
    }
   ],
   "source": [
    "from time import clock\n",
    "start=clock()\n",
    "def fac(n):\n",
    "    prod=1\n",
    "    for i in range(1,n+1):\n",
    "        prod=prod*i\n",
    "    return prod\n",
    "print fac(400)\n",
    "print \"Time taken: \", 1000*(clock()-start), \"miliseconds\""
   ]
  },
  {
   "cell_type": "code",
   "execution_count": 80,
   "metadata": {
    "collapsed": false
   },
   "outputs": [
    {
     "data": {
      "text/plain": [
       "137846528820L"
      ]
     },
     "execution_count": 80,
     "metadata": {},
     "output_type": "execute_result"
    }
   ],
   "source": [
    "fac(40)/(fac(20)**2)"
   ]
  },
  {
   "cell_type": "code",
   "execution_count": 81,
   "metadata": {
    "collapsed": false
   },
   "outputs": [
    {
     "data": {
      "text/plain": [
       "137846528820L"
      ]
     },
     "execution_count": 81,
     "metadata": {},
     "output_type": "execute_result"
    }
   ],
   "source": [
    "Factorial(40)/(Factorial(20)**2)"
   ]
  },
  {
   "cell_type": "code",
   "execution_count": 4,
   "metadata": {
    "collapsed": false
   },
   "outputs": [],
   "source": [
    "def Collatz(n):\n",
    "    if n==1:\n",
    "        return 0\n",
    "    if n%2==0:\n",
    "        return Collatz(n/2)+1\n",
    "    if n%2==1:\n",
    "        return Collatz(3*n+1)+1\n",
    "    "
   ]
  },
  {
   "cell_type": "code",
   "execution_count": 5,
   "metadata": {
    "collapsed": false
   },
   "outputs": [
    {
     "data": {
      "text/plain": [
       "5"
      ]
     },
     "execution_count": 5,
     "metadata": {},
     "output_type": "execute_result"
    }
   ],
   "source": [
    "Collatz(5)"
   ]
  },
  {
   "cell_type": "code",
   "execution_count": null,
   "metadata": {
    "collapsed": true
   },
   "outputs": [],
   "source": []
  }
 ],
 "metadata": {
  "kernelspec": {
   "display_name": "Python 2",
   "language": "python",
   "name": "python2"
  },
  "language_info": {
   "codemirror_mode": {
    "name": "ipython",
    "version": 2
   },
   "file_extension": ".py",
   "mimetype": "text/x-python",
   "name": "python",
   "nbconvert_exporter": "python",
   "pygments_lexer": "ipython2",
   "version": "2.7.6"
  }
 },
 "nbformat": 4,
 "nbformat_minor": 0
}
