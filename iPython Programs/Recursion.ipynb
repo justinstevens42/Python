{
 "cells": [
  {
   "cell_type": "code",
   "execution_count": 2,
   "metadata": {
    "collapsed": false
   },
   "outputs": [
    {
     "name": "stdout",
     "output_type": "stream",
     "text": [
      "Lagest palindrome =  906609\n",
      "runtime =  0.000529050827026\n"
     ]
    }
   ],
   "source": [
    "from time import time\n",
    "def is_product(number):\n",
    "    \"\"\"\n",
    "    Boolean function, \n",
    "    takes a number, returns TRUE if product of two 3-digit numbers,\n",
    "    returns FALSE otherwise.\n",
    "    \"\"\"\n",
    "    factor = 999\n",
    "    # loops through all 3 digit numbers, starting from largest\n",
    "    while factor >= 100:\n",
    "        ## if number is divisible by factor and quotient is 3-digits\n",
    "        if number % factor == 0 and 100 <= number//factor <= 999  :\n",
    "            # print factor, number//factor\n",
    "            return True\n",
    "        \n",
    "        ## this if-statement is optional but reduces run-time tenfolds\n",
    "        if factor <= number//factor:\n",
    "           break\n",
    "\n",
    "        factor -= 1   \n",
    "    return False\n",
    "\n",
    "def gen_palindromes():\n",
    "    \"\"\"\n",
    "    subroutine, uses python capability to handle strings to generate all \n",
    "    palindromes of length 6, that is between 100001 - 999999.\n",
    "    (Assuming that the largest palindrome made from the product\n",
    "     of two 3-digit numbers lies within this range.)\n",
    "\n",
    "    The loops starts from the largest possible palindrome, and works its way down\n",
    "    For all generated palindroms, it test whether they have the desired properties,\n",
    "    and if it does, breaks the loop after printing the answer.\n",
    "    \"\"\"\n",
    "    biggest = 997   ## since 999*999 = 998001, no need to investigate 998 and 999 \n",
    "\n",
    "    while biggest >= 100 :\n",
    "        half = str(biggest)                     ## generate first half\n",
    "        second_half = half[-1::-1]              ## create \"mirror image\"\n",
    "        palindrome = int(half + second_half)    ## assemble palindrome\n",
    "\n",
    "        if is_product(palindrome):   ## IF product of two 3-digit numbers\n",
    "            print \"Lagest palindrome = \", palindrome          \n",
    "            break\n",
    "            \n",
    "        biggest -= 1\n",
    "    \n",
    "start = time()\n",
    "gen_palindromes()\n",
    "print \"runtime = \", time()-start"
   ]
  },
  {
   "cell_type": "code",
   "execution_count": 6,
   "metadata": {
    "collapsed": false
   },
   "outputs": [
    {
     "name": "stdout",
     "output_type": "stream",
     "text": [
      "648\n"
     ]
    }
   ],
   "source": [
    "def Factorial(n):\n",
    "    if n==1:\n",
    "        return 1\n",
    "    return n*Factorial(n-1)\n",
    "print sum(int(i) for i in str(Factorial(100)))"
   ]
  },
  {
   "cell_type": "code",
   "execution_count": 88,
   "metadata": {
    "collapsed": false
   },
   "outputs": [
    {
     "name": "stdout",
     "output_type": "stream",
     "text": [
      "184756\n",
      "The amount of time this program took was  0.000482000000005 seconds\n"
     ]
    }
   ],
   "source": [
    "from time import clock\n",
    "start=clock()\n",
    "cache={}\n",
    "def countRoutes(m,n):\n",
    "    if n==0 or m==0:\n",
    "        return 1\n",
    "    try:\n",
    "        return cache[(m,n)]\n",
    "    except:\n",
    "        pass\n",
    "    cache[(m,n)]=countRoutes(m,n-1)+countRoutes(m-1,n)\n",
    "    return cache[(m,n)]\n",
    "print countRoutes(10,10)\n",
    "print \"The amount of time this program took was \", clock()-start , \"seconds\""
   ]
  },
  {
   "cell_type": "code",
   "execution_count": 238,
   "metadata": {
    "collapsed": false
   },
   "outputs": [
    {
     "name": "stdout",
     "output_type": "stream",
     "text": [
      "31626\n",
      "Time taken: 1.266068 seconds\n"
     ]
    }
   ],
   "source": [
    "from time import clock\n",
    "from math import exp, expm1\n",
    "start=clock()\n",
    "\n",
    "def prime(n):\n",
    "    if n==1:\n",
    "        return False\n",
    "    if n<4:\n",
    "        return True\n",
    "    if n%2==0:\n",
    "        return False\n",
    "    if n<9:\n",
    "        return True\n",
    "    if n%3==0:\n",
    "        return False\n",
    "    r=int(n**0.5)\n",
    "    f=5\n",
    "    while f<=r:\n",
    "        if n%f==0:\n",
    "            return False\n",
    "        if n%(f+2)==0:\n",
    "            return False\n",
    "        f=f+6\n",
    "    return True\n",
    "\n",
    "cache={1:1}\n",
    "for i in range(14):\n",
    "    cache[2**i]=(2**(i+1)-1)\n",
    "def SumOfDivisors(n):\n",
    "    if n==1:\n",
    "        return 1\n",
    "    if prime(n):\n",
    "        return n+1\n",
    "    try:\n",
    "        return cache[n]\n",
    "    except:\n",
    "        pass\n",
    "    for p in range(2,n):\n",
    "        if n%p==0:\n",
    "            counter=1\n",
    "            n=n/p\n",
    "            while n%p==0:\n",
    "                counter+=1\n",
    "                n=n/p\n",
    "            break     \n",
    "    cache[n]=SumOfDivisors(n)\n",
    "    return (p**(counter+1)-1)/(p-1)*cache[n]\n",
    "def main():\n",
    "    ami_sum = []\n",
    "    for i in xrange(2, 10001):\n",
    "        ami_num = SumOfDivisors(i)-i\n",
    "        if i == SumOfDivisors(ami_num)-ami_num and i != ami_num:\n",
    "            if i not in ami_sum:\n",
    "                ami_sum.append(i)\n",
    "            if ami_num not in ami_sum:\n",
    "                ami_sum.append(ami_num)\n",
    "    print sum(ami_sum)\n",
    "\n",
    "main()\n",
    "print \"Time taken:\", clock()-start , \"seconds\"\n",
    "        "
   ]
  },
  {
   "cell_type": "code",
   "execution_count": null,
   "metadata": {
    "collapsed": false
   },
   "outputs": [],
   "source": [
    "from time import clock\n",
    "start=clock()\n",
    "\n",
    "def prime(n):\n",
    "    for x in range (2, int(n**0.5)+1):\n",
    "        if n%x==0:\n",
    "            return False\n",
    "    return True\n",
    "def ListPrimes(n):\n",
    "    list=[]\n",
    "    for y in range(2,n):\n",
    "        if prime(y):\n",
    "            list.append(y)\n",
    "    return list\n",
    "print ListPrimes(10**6)\n",
    "print \"Time taken:\", clock()-start, \"seconds\"\n"
   ]
  },
  {
   "cell_type": "code",
   "execution_count": 19,
   "metadata": {
    "collapsed": false
   },
   "outputs": [
    {
     "name": "stdout",
     "output_type": "stream",
     "text": [
      "<generator object primes_sieve2 at 0x7f0dc636ebe0>\n"
     ]
    }
   ],
   "source": [
    "print primes_sieve2(100)"
   ]
  },
  {
   "cell_type": "code",
   "execution_count": 229,
   "metadata": {
    "collapsed": false
   },
   "outputs": [
    {
     "name": "stdout",
     "output_type": "stream",
     "text": [
      "31626\n",
      "Total time: 1.709609\n"
     ]
    }
   ],
   "source": [
    "from time import clock\n",
    "start=clock()\n",
    "\n",
    "def sumPrimeDivisor(n):\n",
    "    _sum = 0\n",
    "    for i in xrange(1,n/2+1):\n",
    "         if n%i == 0:\n",
    "             _sum += i\n",
    "    return _sum\n",
    "\n",
    "_sum = 0\n",
    "for i in xrange(1,10000):\n",
    "    if sumPrimeDivisor(sumPrimeDivisor(i)) == i and sumPrimeDivisor(i) != i:\n",
    "        _sum += i\n",
    "\n",
    "print _sum\n",
    "\n",
    "\n",
    "print \"Total time:\",  clock()-start"
   ]
  },
  {
   "cell_type": "code",
   "execution_count": null,
   "metadata": {
    "collapsed": true
   },
   "outputs": [],
   "source": []
  }
 ],
 "metadata": {
  "kernelspec": {
   "display_name": "Python 2",
   "language": "python",
   "name": "python2"
  },
  "language_info": {
   "codemirror_mode": {
    "name": "ipython",
    "version": 2
   },
   "file_extension": ".py",
   "mimetype": "text/x-python",
   "name": "python",
   "nbconvert_exporter": "python",
   "pygments_lexer": "ipython2",
   "version": "2.7.6"
  }
 },
 "nbformat": 4,
 "nbformat_minor": 0
}
