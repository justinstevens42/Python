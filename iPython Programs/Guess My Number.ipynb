{
 "cells": [
  {
   "cell_type": "code",
   "execution_count": 19,
   "metadata": {
    "collapsed": false
   },
   "outputs": [
    {
     "name": "stdout",
     "output_type": "stream",
     "text": [
      "\tWelcome to 'Guess My Number'!\n",
      "\n",
      "I'm thinking of a number between 1 and 100.\n",
      "Try to guess it in as few attempts as possible.\n",
      "\n",
      "Take a guess: 42\n",
      "Higher...\n",
      "Take a guess: 83\n",
      "You guessed it!  The number was 83\n",
      "And it only took you 2 tries!\n",
      "\n"
     ]
    }
   ],
   "source": [
    "import random\n",
    "print \"\\tWelcome to 'Guess My Number'!\"\n",
    "print \"\\nI'm thinking of a number between 1 and 100.\"\n",
    "print \"Try to guess it in as few attempts as possible.\\n\"\n",
    "the_number=random.randrange(100)+1\n",
    "guess=int(raw_input(\"Take a guess: \"))\n",
    "tries=1\n",
    "\n",
    "while (guess !=the_number):\n",
    "    if (guess > the_number):\n",
    "        print \"Lower...\"\n",
    "    else:\n",
    "        print \"Higher...\"\n",
    "    guess = int(raw_input(\"Take a guess: \"))\n",
    "    tries +=1\n",
    "print \"You guessed it!  The number was\", the_number\n",
    "print \"And it only took you\", tries, \"tries!\\n\"\n"
   ]
  },
  {
   "cell_type": "code",
   "execution_count": null,
   "metadata": {
    "collapsed": true
   },
   "outputs": [],
   "source": []
  },
  {
   "cell_type": "code",
   "execution_count": null,
   "metadata": {
    "collapsed": true
   },
   "outputs": [],
   "source": []
  },
  {
   "cell_type": "code",
   "execution_count": null,
   "metadata": {
    "collapsed": true
   },
   "outputs": [],
   "source": []
  },
  {
   "cell_type": "code",
   "execution_count": null,
   "metadata": {
    "collapsed": true
   },
   "outputs": [],
   "source": []
  }
 ],
 "metadata": {
  "kernelspec": {
   "display_name": "Python 2",
   "language": "python",
   "name": "python2"
  },
  "language_info": {
   "codemirror_mode": {
    "name": "ipython",
    "version": 2
   },
   "file_extension": ".py",
   "mimetype": "text/x-python",
   "name": "python",
   "nbconvert_exporter": "python",
   "pygments_lexer": "ipython2",
   "version": "2.7.6"
  }
 },
 "nbformat": 4,
 "nbformat_minor": 0
}
