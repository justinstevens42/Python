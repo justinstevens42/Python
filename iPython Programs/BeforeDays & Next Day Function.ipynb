{
 "cells": [
  {
   "cell_type": "code",
   "execution_count": 14,
   "metadata": {
    "collapsed": false
   },
   "outputs": [
    {
     "name": "stdout",
     "output_type": "stream",
     "text": [
      "0\n"
     ]
    }
   ],
   "source": [
    "def BeforeDays(year1,month1,day1,year2,month2,day2):\n",
    "    if year1<year2:\n",
    "        return true\n",
    "    elif year1==year2:\n",
    "        if month1<month2:\n",
    "            return true\n",
    "        else:\n",
    "            return day1<day2\n",
    "    else:\n",
    "        return false\n",
    "\n",
    "def NextDay(year1,month1,day1):\n",
    "    if day1==30:\n",
    "        if month1==12:\n",
    "            day1=1\n",
    "            month1=1\n",
    "            year1+=1\n",
    "        else:\n",
    "            day1=1\n",
    "            month1+=1\n",
    "    else:\n",
    "        day1+=1\n",
    "    \n",
    "def DaysBetweenDates(year1,month1,day1,year2,month2,day2):\n",
    "    count=0\n",
    "    while  BeforeDays==True:\n",
    "        count+=1\n",
    "        (year1,month1,day1)=NextDay(year1,month1,day1)\n",
    "    return count\n",
    "print DaysBetweenDates(2014,1,1, 2015,1,1)\n",
    "    "
   ]
  },
  {
   "cell_type": "code",
   "execution_count": 5,
   "metadata": {
    "collapsed": false
   },
   "outputs": [
    {
     "name": "stdout",
     "output_type": "stream",
     "text": [
      "True\n",
      "False\n",
      "True\n",
      "False\n",
      "True\n",
      "False\n"
     ]
    }
   ],
   "source": [
    "def BeforeDays(year1,month1,day1,year2,month2,day2):\n",
    "    if year1<year2:\n",
    "        return True\n",
    "    elif year1==year2:\n",
    "        if month1<month2:\n",
    "            return True\n",
    "        elif month1==month2:\n",
    "            return day1<day2\n",
    "        else: \n",
    "            return False\n",
    "    else:\n",
    "        return False\n",
    "\n",
    "print BeforeDays(2014,1,1, 2015,2,2)\n",
    "print BeforeDays(2015,1,1, 2014,2,2)\n",
    "print BeforeDays(2014,1,1, 2014,1,2)\n",
    "print BeforeDays(2014,2,1,2014,1,2)\n",
    "print BeforeDays(1998, 1,1, 2014, 1,1)\n",
    "print BeforeDays(2014,1,1,1998,1,1)\n"
   ]
  },
  {
   "cell_type": "code",
   "execution_count": 12,
   "metadata": {
    "collapsed": false
   },
   "outputs": [
    {
     "name": "stdout",
     "output_type": "stream",
     "text": [
      "(2014, 1, 2)\n",
      "(2015, 1, 1)\n",
      "(2014, 7, 1)\n",
      "(1997, 12, 7)\n"
     ]
    }
   ],
   "source": [
    "def NextDay(year1,month1,day1):\n",
    "    if day1==30:\n",
    "        if month1==12:\n",
    "            day1=1\n",
    "            month1=1\n",
    "            year1+=1\n",
    "        else:\n",
    "            day1=1\n",
    "            month1+=1\n",
    "    else:\n",
    "        day1+=1\n",
    "    return (year1,month1,day1)\n",
    "print NextDay(2014,1,1)\n",
    "print NextDay(2014,12,30)\n",
    "print NextDay(2014,6,30)\n",
    "print NextDay(1997, 12, 6)\n"
   ]
  },
  {
   "cell_type": "code",
   "execution_count": null,
   "metadata": {
    "collapsed": true
   },
   "outputs": [],
   "source": []
  }
 ],
 "metadata": {
  "kernelspec": {
   "display_name": "Python 2",
   "language": "python",
   "name": "python2"
  },
  "language_info": {
   "codemirror_mode": {
    "name": "ipython",
    "version": 2
   },
   "file_extension": ".py",
   "mimetype": "text/x-python",
   "name": "python",
   "nbconvert_exporter": "python",
   "pygments_lexer": "ipython2",
   "version": "2.7.6"
  }
 },
 "nbformat": 4,
 "nbformat_minor": 0
}
