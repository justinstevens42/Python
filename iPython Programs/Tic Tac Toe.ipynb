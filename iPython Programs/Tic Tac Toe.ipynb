{
 "cells": [
  {
   "cell_type": "code",
   "execution_count": null,
   "metadata": {
    "collapsed": false,
    "scrolled": true
   },
   "outputs": [
    {
     "name": "stdout",
     "output_type": "stream",
     "text": [
      "\n",
      "Welcome to my Tic Tac Toe game!  You will be playing against a computer.\n",
      "    \n",
      "You will move by entering a number from 0-8 as they correspond to the numbers on the following board. \n",
      "    0  |  1  |  2\n",
      "    -------------\n",
      "    3  |  4  |  5\n",
      "    -------------\n",
      "    6  |  7  |  8\n",
      "    \n",
      "Do you want to go first?  (y/n): y\n",
      "\n",
      "\n",
      "\n",
      "You have chosen to go first.  Here is what the board currently looks like...\n",
      "\n",
      "\t   |   |   \n",
      "\t-----------\n",
      "\t   |   |   \n",
      "\t-----------\n",
      "\t   |   |    \n",
      "\n",
      "\n",
      "Please choose a number as they correspond to the following board:\n",
      "        0  |  1  |  2\n",
      "        -------------\n",
      "        3  |  4  |  5\n",
      "        -------------\n",
      "        6  |  7  |  8\n",
      "    \n",
      "Where will you move? (0-8): 0\n",
      "Fine...\n",
      "Here is what the board currently looks like...\n",
      "\n",
      "\tX  |   |   \n",
      "\t-----------\n",
      "\t   |   |   \n",
      "\t-----------\n",
      "\t   |   |    \n",
      "\n",
      "I shall take square number 4\n",
      "Here is what the board currently looks like...\n",
      "\n",
      "\tX  |   |   \n",
      "\t-----------\n",
      "\t   | O |   \n",
      "\t-----------\n",
      "\t   |   |    \n",
      "\n",
      "\n",
      "Please choose a number as they correspond to the following board:\n",
      "        0  |  1  |  2\n",
      "        -------------\n",
      "        3  |  4  |  5\n",
      "        -------------\n",
      "        6  |  7  |  8\n",
      "    \n",
      "Where will you move? (0-8): 8\n",
      "Fine...\n",
      "Here is what the board currently looks like...\n",
      "\n",
      "\tX  |   |   \n",
      "\t-----------\n",
      "\t   | O |   \n",
      "\t-----------\n",
      "\t   |   |  X \n",
      "\n",
      "I shall take square number 1\n",
      "Here is what the board currently looks like...\n",
      "\n",
      "\tX  | O |   \n",
      "\t-----------\n",
      "\t   | O |   \n",
      "\t-----------\n",
      "\t   |   |  X \n",
      "\n",
      "\n",
      "Please choose a number as they correspond to the following board:\n",
      "        0  |  1  |  2\n",
      "        -------------\n",
      "        3  |  4  |  5\n",
      "        -------------\n",
      "        6  |  7  |  8\n",
      "    \n",
      "Where will you move? (0-8): 7\n",
      "Fine...\n",
      "Here is what the board currently looks like...\n",
      "\n",
      "\tX  | O |   \n",
      "\t-----------\n",
      "\t   | O |   \n",
      "\t-----------\n",
      "\t   | X |  X \n",
      "\n",
      "I shall take square number 6\n",
      "Here is what the board currently looks like...\n",
      "\n",
      "\tX  | O |   \n",
      "\t-----------\n",
      "\t   | O |   \n",
      "\t-----------\n",
      "\tO  | X |  X \n",
      "\n",
      "\n",
      "Please choose a number as they correspond to the following board:\n",
      "        0  |  1  |  2\n",
      "        -------------\n",
      "        3  |  4  |  5\n",
      "        -------------\n",
      "        6  |  7  |  8\n",
      "    \n",
      "Where will you move? (0-8): 3\n",
      "Fine...\n",
      "Here is what the board currently looks like...\n",
      "\n",
      "\tX  | O |   \n",
      "\t-----------\n",
      "\tX  | O |   \n",
      "\t-----------\n",
      "\tO  | X |  X \n",
      "\n",
      "I shall take square number 2\n",
      "Here is what the board currently looks like...\n",
      "\n",
      "\tX  | O |  O\n",
      "\t-----------\n",
      "\tX  | O |   \n",
      "\t-----------\n",
      "\tO  | X |  X \n",
      "\n",
      "O won!\n",
      "\n",
      "You have lost to the computer. \n",
      " \n",
      "You have won 0 games \n",
      "\n",
      "You have lost 1 games \n",
      "\n",
      "You have tied 0 games \n",
      "\n"
     ]
    }
   ],
   "source": [
    "#Global Variables Used Throughout The Code\n",
    "\n",
    "X= \"X\"\n",
    "O=\"O\"\n",
    "EMPTY=\" \"\n",
    "TIE=\"TIE\"\n",
    "NUM_SQUARES=9\n",
    "\n",
    "#DisplayInstructions\n",
    "\n",
    "def display_instruct():\n",
    "    \"\"\"Display game instructions. \"\"\"\n",
    "    print \\\n",
    "    \"\"\"\n",
    "Welcome to my Tic Tac Toe game!  You will be playing against a computer.\n",
    "    \n",
    "You will move by entering a number from 0-8 as they correspond to the numbers on the following board. \n",
    "    0  |  1  |  2\n",
    "    -------------\n",
    "    3  |  4  |  5\n",
    "    -------------\n",
    "    6  |  7  |  8\n",
    "    \"\"\"\n",
    "\n",
    "#Display The Numbers As They Correspond To The Board\n",
    "def print_numbers():\n",
    "    print \\\n",
    "    \"\"\"\n",
    "Please choose a number as they correspond to the following board:\n",
    "        0  |  1  |  2\n",
    "        -------------\n",
    "        3  |  4  |  5\n",
    "        -------------\n",
    "        6  |  7  |  8\n",
    "    \"\"\"\n",
    "\n",
    "#Used to ask the player if they want a rematch and used to determine who goes first    \n",
    "def ask_yes_no(question):\n",
    "    \"\"\"Ask a yes or no question\"\"\"\n",
    "    response=None\n",
    "    #if the user has not provided a sufficient answer, ask the question again\n",
    "    while response not in (\"y\", \"n\"):\n",
    "        response=raw_input(question).lower()\n",
    "    return response\n",
    "\n",
    "#Used to get the player to enter a number within a specific range\n",
    "\n",
    "def ask_number(question, low, high):\n",
    "    \"\"\"Asks for a number within a range.\"\"\"\n",
    "    response=None\n",
    "    #If the number is not within the range, ask the question again.  WARNING:  Code breaks when user inputs a string.\n",
    "    while response not in range(low, high):\n",
    "        response=int(raw_input(question))\n",
    "    return response\n",
    "\n",
    "def pieces():\n",
    "    \"\"\"Determine if player or computer goes first.\"\"\"\n",
    "    go_first=ask_yes_no(\"Do you want to go first?  (y/n): \")\n",
    "    if go_first==\"y\":\n",
    "        print \"\\n\\n\"\n",
    "        print \"You have chosen to go first.  Here is what the board currently looks like...\"\n",
    "        #Uses the global variables to create game board\n",
    "        human=X\n",
    "        computer=O\n",
    "    else:\n",
    "        print \"\\nThe computer will go first.\"\n",
    "        #Uses the global variables to create game board\n",
    "        computer=X\n",
    "        human=O\n",
    "    return computer, human\n",
    "\n",
    "\n",
    "def new_board():\n",
    "    \"\"\"Create a new game board\"\"\"\n",
    "    board=[]\n",
    "    for square in range(NUM_SQUARES):\n",
    "        board.append(EMPTY)\n",
    "    return board\n",
    "\n",
    "\n",
    "\n",
    "def display_board(board):\n",
    "    \"\"\"Display game board on screen.\"\"\"\n",
    "    print \"\\n\\t\", board[0], \" |\", board[1], \"| \", board[2]\n",
    "    print \"\\t\", \"-----------\"\n",
    "    print \"\\t\", board[3], \" |\", board[4], \"| \", board[5]\n",
    "    print \"\\t\", \"-----------\"\n",
    "    print \"\\t\", board[6], \" |\", board[7], \"| \", board[8], \"\\n\"\n",
    "    \n",
    "    \n",
    "def legal_moves(board):\n",
    "    \"\"\"Creates list of legal moves.\"\"\"\n",
    "    moves=[]\n",
    "    for square in range(NUM_SQUARES):\n",
    "        #If the board square is empty, add the square to the legal moves list\n",
    "        if board[square]==EMPTY:\n",
    "            \n",
    "            moves.append(square)\n",
    "    return moves\n",
    "def winner(board):\n",
    "    \"\"\"Determine the game winner.\"\"\"\n",
    "    #checks all possible ways to win\n",
    "    WAYS_TO_WIN=((0,1,2),\n",
    "                (3,4,5),\n",
    "                (6,7,8),\n",
    "                (0,3,6),\n",
    "                (1,4,7),\n",
    "                (2,5,8),\n",
    "                (0,4,8),\n",
    "                (2,4,6))\n",
    "    for row in WAYS_TO_WIN:\n",
    "        if board[row[0]]== board[row[1]]==board[row[2]]!=EMPTY:\n",
    "            winner=board[row[0]]\n",
    "            return winner\n",
    "    if EMPTY not in board:\n",
    "        return TIE\n",
    "    return None\n",
    "\n",
    "\n",
    "def human_move(board, human):\n",
    "    \"\"\"Get human move.\"\"\"\n",
    "    print_numbers()\n",
    "    legal=legal_moves(board)\n",
    "    move=None\n",
    "    while move not in legal:\n",
    "        move=ask_number(\"Where will you move? (0-8): \", 0, NUM_SQUARES)\n",
    "        if move not in legal:\n",
    "            print \"That move is already occupied.  Choose another one.  \\n\"\n",
    "            print \"Here is a reminder of what the board looks like..\"\n",
    "            display_board(board)\n",
    "    print \"Fine...\"\n",
    "    #fills board with human move in the main() function \n",
    "    return move\n",
    "#def search((start, depth):\n",
    "    #make a copy of board\n",
    "#    board=board[:]\n",
    "#    for move in legal_moves(board):\n",
    "           \n",
    "\n",
    "def computer_move(board, computer, human):\n",
    "    \"\"\"Make computer move.\"\"\"\n",
    "    #make a copy to work with since function will be changing list\n",
    "    board=board[:]\n",
    "    \n",
    "    BEST_MOVES=(4,0,2,6,8,1,3,5,7)\n",
    "    BEST_MOVES_CORNER=(1,3,5,7,0,2,6,8,4)\n",
    "    BEST_MOVES_SIDES=(8,6,2,0,1,3,5,7,4)\n",
    "    print \"I shall take square number\",\n",
    "    \n",
    "    #if computer can win, take that move\n",
    "    for move in legal_moves(board):\n",
    "        board[move]=computer\n",
    "        if winner(board)== computer:\n",
    "            print move\n",
    "            return move\n",
    "        #done checking this move, undo it\n",
    "        board[move]=EMPTY\n",
    "    #if human can win, block it\n",
    "    for move in legal_moves(board):\n",
    "        board[move]=human\n",
    "        if winner(board)==human:\n",
    "            print move\n",
    "            return move\n",
    "        #done checking this move, undo it\n",
    "        board[move]=EMPTY\n",
    "    #uses BEST_MOVES_CORNER to determine computer play should the corners/middle be filled up\n",
    "    while (board[0]==\"X\" or board[8]==\"X\" or board[2]==\"X\" or board[6]==\"X\")==True and board[4]==\"O\":\n",
    "        for move in BEST_MOVES_CORNER:\n",
    "            if move in legal_moves(board):\n",
    "                print move\n",
    "                return move\n",
    "    #uses BEST_MOVES_SIDES to determine computer play should the player find the 5/7 loophole\n",
    "    while (board[5]==\"X\" and board[7]==\"X\"):\n",
    "        for move in BEST_MOVES_SIDES:\n",
    "            if move in legal_moves(board):\n",
    "                print move\n",
    "                return move\n",
    "    #otherwise, uses BEST_MOVES to determine computer play\n",
    "    for move in BEST_MOVES:\n",
    "        if move in legal_moves(board):\n",
    "            print move\n",
    "            return move\n",
    "\n",
    "def next_turn(turn):\n",
    "    \"\"\"Switch turns.\"\"\"\n",
    "    if turn == X:\n",
    "        return O\n",
    "    else:\n",
    "        return X\n",
    "def rematch():\n",
    "    #Used in the main() function with the answer to this stored in the variable yodawg\n",
    "    answer=ask_yes_no(\"Do you want to play a rematch? (y/n)\")\n",
    "    if answer==\"y\":\n",
    "        print \"Good luck!  \\n \\n\"\n",
    "        return True\n",
    "    else:\n",
    "        return False\n",
    "        \n",
    "class GameState:\n",
    "    \n",
    "    def __init__(self):\n",
    "        self.human_counter = 0\n",
    "        self.tie_counter=0\n",
    "        self.computer_counter=0\n",
    "        \n",
    "def congrat_winner(the_winner, computer, human, GS):\n",
    "    \"\"\"Congratulate the winner.\"\"\"\n",
    "    if the_winner !=TIE:\n",
    "        print the_winner, \"won!\\n\"\n",
    "    else:\n",
    "        print \"It's a tie! \\n\"\n",
    "    if the_winner== computer:\n",
    "        GS.computer_counter +=1\n",
    "        print \"You have lost to the computer. \\n \"\n",
    "    elif the_winner==human:\n",
    "        GS.human_counter +=1\n",
    "        print \"You have won.  \\n\"\n",
    "    elif the_winner==TIE:\n",
    "        GS.tie_counter +=1\n",
    "        print \"Good game. \\n \"  \n",
    "    #counters stored in the GameState class\n",
    "    print \"You have won\", GS.human_counter, \"games \\n\"\n",
    "    print \"You have lost\", GS.computer_counter, \"games \\n\"\n",
    "    print \"You have tied\", GS.tie_counter, \"games \\n\"\n",
    "\n",
    "def main():\n",
    "    yodawg=True\n",
    "    GS=GameState()\n",
    "    while yodawg:\n",
    "        display_instruct()\n",
    "        computer,human=pieces()\n",
    "        turn=X\n",
    "        board=new_board()\n",
    "        display_board(board)\n",
    "        \n",
    "      \n",
    "        \n",
    "        while not winner(board):\n",
    "            #yodawg\n",
    "\n",
    "            if turn ==human:\n",
    "                move=human_move(board, human)\n",
    "                board[move]=human\n",
    "            else:\n",
    "                move=computer_move(board, computer, human)\n",
    "                board[move]=computer\n",
    "            print \"Here is what the board currently looks like...\"\n",
    "            display_board(board)\n",
    "            turn=next_turn(turn)\n",
    "        the_winner=winner(board)\n",
    "        congrat_winner(the_winner, computer, human, GS)\n",
    "        yodawg= rematch()\n",
    "    raw_input(\"\\n\\n Press the enter key to exit.\")\n",
    "\n",
    "main()\n",
    "\n",
    "def get_rating(move):\n",
    "    #create a new board as it will be changed a lot in the function\n",
    "    board=board[:]\n",
    "    board[move]=turn\n",
    "    turn=next_turn(turn)\n",
    "    while not winner(board):\n",
    "        for next_move in legal_moves(board):\n",
    "            get_rating(next_move)\n",
    "    if winner(board)==computer:\n",
    "        return 1\n",
    "    if winner(board)==human:\n",
    "        return -1\n",
    "    if winner(board)==TIE:\n",
    "        return 0\n",
    "def get_best_move():    \n",
    "    ratings={}\n",
    "    for i in legal_moves(board):\n",
    "        ratings[i]=get_rating(i)\n",
    "    if turn==human:\n",
    "        best_move=min(ratings)\n",
    "        return best_move\n",
    "    if turn==computer:\n",
    "        best_move=max(ratings)\n",
    "        return best_move\n",
    "\n",
    "\n"
   ]
  },
  {
   "cell_type": "code",
   "execution_count": 82,
   "metadata": {
    "collapsed": false
   },
   "outputs": [],
   "source": [
    "class Queue:\n",
    "    def __init__(self):\n",
    "        self.array=[]\n",
    "    def enqueue(self, thing):\n",
    "        self.array.append(thing)\n",
    "    def dequeue(self):\n",
    "        store=self.array[0]\n",
    "        del self.array[0]\n",
    "        return store\n",
    "class Stack:\n",
    "    def __init__(self):\n",
    "        self.array=[]\n",
    "    def push(self, thing):\n",
    "        self.array.append(thing)\n",
    "    def pop(self):\n",
    "        store=self.array[-1]\n",
    "        del self.array[-1]\n",
    "        return store\n",
    "\n",
    "\n",
    "    "
   ]
  },
  {
   "cell_type": "raw",
   "metadata": {},
   "source": [
    "function minimax(node, depth, maximizingPlayer)\n",
    "    if depth = 0 or node is a terminal node\n",
    "        return the heuristic value of node\n",
    "    if maximizingPlayer\n",
    "        bestValue := -∞\n",
    "        for each child of node\n",
    "            val := minimax(child, depth - 1, FALSE)\n",
    "            bestValue := max(bestValue, val)\n",
    "        return bestValue\n",
    "    else\n",
    "        bestValue := +∞\n",
    "        for each child of node\n",
    "            val := minimax(child, depth - 1, TRUE)\n",
    "            bestValue := min(bestValue, val)\n",
    "        return bestValue\n",
    "\n",
    "(* Initial call for maximizing player *)\n",
    "minimax(origin, depth, TRUE)"
   ]
  },
  {
   "cell_type": "code",
   "execution_count": 74,
   "metadata": {
    "collapsed": false
   },
   "outputs": [],
   "source": []
  },
  {
   "cell_type": "code",
   "execution_count": 75,
   "metadata": {
    "collapsed": true
   },
   "outputs": [],
   "source": [
    "q.enqueue(17)"
   ]
  },
  {
   "cell_type": "code",
   "execution_count": 76,
   "metadata": {
    "collapsed": true
   },
   "outputs": [],
   "source": [
    "q.enqueue(123)"
   ]
  },
  {
   "cell_type": "code",
   "execution_count": 77,
   "metadata": {
    "collapsed": false
   },
   "outputs": [
    {
     "data": {
      "text/plain": [
       "5"
      ]
     },
     "execution_count": 77,
     "metadata": {},
     "output_type": "execute_result"
    }
   ],
   "source": [
    "q.dequeue()"
   ]
  },
  {
   "cell_type": "code",
   "execution_count": 78,
   "metadata": {
    "collapsed": false
   },
   "outputs": [
    {
     "data": {
      "text/plain": [
       "17"
      ]
     },
     "execution_count": 78,
     "metadata": {},
     "output_type": "execute_result"
    }
   ],
   "source": [
    "q.dequeue()"
   ]
  },
  {
   "cell_type": "code",
   "execution_count": 79,
   "metadata": {
    "collapsed": false
   },
   "outputs": [
    {
     "data": {
      "text/plain": [
       "123"
      ]
     },
     "execution_count": 79,
     "metadata": {},
     "output_type": "execute_result"
    }
   ],
   "source": [
    "q.dequeue()"
   ]
  },
  {
   "cell_type": "code",
   "execution_count": 80,
   "metadata": {
    "collapsed": false
   },
   "outputs": [
    {
     "ename": "IndexError",
     "evalue": "list index out of range",
     "output_type": "error",
     "traceback": [
      "\u001b[1;31m---------------------------------------------------------------------------\u001b[0m",
      "\u001b[1;31mIndexError\u001b[0m                                Traceback (most recent call last)",
      "\u001b[1;32m<ipython-input-80-71fab2f3b87d>\u001b[0m in \u001b[0;36m<module>\u001b[1;34m()\u001b[0m\n\u001b[1;32m----> 1\u001b[1;33m \u001b[0mq\u001b[0m\u001b[1;33m.\u001b[0m\u001b[0mdequeue\u001b[0m\u001b[1;33m(\u001b[0m\u001b[1;33m)\u001b[0m\u001b[1;33m\u001b[0m\u001b[0m\n\u001b[0m",
      "\u001b[1;32m<ipython-input-71-d004b9c03898>\u001b[0m in \u001b[0;36mdequeue\u001b[1;34m(self)\u001b[0m\n\u001b[0;32m      5\u001b[0m         \u001b[0mself\u001b[0m\u001b[1;33m.\u001b[0m\u001b[0marray\u001b[0m\u001b[1;33m.\u001b[0m\u001b[0mappend\u001b[0m\u001b[1;33m(\u001b[0m\u001b[0mthing\u001b[0m\u001b[1;33m)\u001b[0m\u001b[1;33m\u001b[0m\u001b[0m\n\u001b[0;32m      6\u001b[0m     \u001b[1;32mdef\u001b[0m \u001b[0mdequeue\u001b[0m\u001b[1;33m(\u001b[0m\u001b[0mself\u001b[0m\u001b[1;33m)\u001b[0m\u001b[1;33m:\u001b[0m\u001b[1;33m\u001b[0m\u001b[0m\n\u001b[1;32m----> 7\u001b[1;33m         \u001b[0mstore\u001b[0m\u001b[1;33m=\u001b[0m\u001b[0mself\u001b[0m\u001b[1;33m.\u001b[0m\u001b[0marray\u001b[0m\u001b[1;33m[\u001b[0m\u001b[1;36m0\u001b[0m\u001b[1;33m]\u001b[0m\u001b[1;33m\u001b[0m\u001b[0m\n\u001b[0m\u001b[0;32m      8\u001b[0m         \u001b[1;32mdel\u001b[0m \u001b[0mself\u001b[0m\u001b[1;33m.\u001b[0m\u001b[0marray\u001b[0m\u001b[1;33m[\u001b[0m\u001b[1;36m0\u001b[0m\u001b[1;33m]\u001b[0m\u001b[1;33m\u001b[0m\u001b[0m\n\u001b[0;32m      9\u001b[0m         \u001b[1;32mreturn\u001b[0m \u001b[0mstore\u001b[0m\u001b[1;33m\u001b[0m\u001b[0m\n",
      "\u001b[1;31mIndexError\u001b[0m: list index out of range"
     ]
    }
   ],
   "source": [
    "q.dequeue()"
   ]
  },
  {
   "cell_type": "code",
   "execution_count": 83,
   "metadata": {
    "collapsed": false
   },
   "outputs": [
    {
     "ename": "NameError",
     "evalue": "name 'stack' is not defined",
     "output_type": "error",
     "traceback": [
      "\u001b[1;31m---------------------------------------------------------------------------\u001b[0m",
      "\u001b[1;31mNameError\u001b[0m                                 Traceback (most recent call last)",
      "\u001b[1;32m<ipython-input-83-4317cb611e8d>\u001b[0m in \u001b[0;36m<module>\u001b[1;34m()\u001b[0m\n\u001b[1;32m----> 1\u001b[1;33m \u001b[0mk\u001b[0m\u001b[1;33m=\u001b[0m\u001b[0mstack\u001b[0m\u001b[1;33m(\u001b[0m\u001b[1;33m)\u001b[0m\u001b[1;33m\u001b[0m\u001b[0m\n\u001b[0m",
      "\u001b[1;31mNameError\u001b[0m: name 'stack' is not defined"
     ]
    }
   ],
   "source": [
    "k=stack()\n"
   ]
  },
  {
   "cell_type": "code",
   "execution_count": 84,
   "metadata": {
    "collapsed": true
   },
   "outputs": [],
   "source": [
    "k=Stack()"
   ]
  },
  {
   "cell_type": "code",
   "execution_count": 85,
   "metadata": {
    "collapsed": true
   },
   "outputs": [],
   "source": [
    "k.push('shopping cart')\n"
   ]
  },
  {
   "cell_type": "code",
   "execution_count": 86,
   "metadata": {
    "collapsed": true
   },
   "outputs": [],
   "source": [
    "k.push('textbooks')"
   ]
  },
  {
   "cell_type": "code",
   "execution_count": 87,
   "metadata": {
    "collapsed": true
   },
   "outputs": [],
   "source": [
    "k.push('my english teacher')"
   ]
  },
  {
   "cell_type": "code",
   "execution_count": 88,
   "metadata": {
    "collapsed": false
   },
   "outputs": [
    {
     "data": {
      "text/plain": [
       "'my english teacher'"
      ]
     },
     "execution_count": 88,
     "metadata": {},
     "output_type": "execute_result"
    }
   ],
   "source": [
    "k.pop()"
   ]
  },
  {
   "cell_type": "code",
   "execution_count": 89,
   "metadata": {
    "collapsed": false
   },
   "outputs": [
    {
     "data": {
      "text/plain": [
       "'textbooks'"
      ]
     },
     "execution_count": 89,
     "metadata": {},
     "output_type": "execute_result"
    }
   ],
   "source": [
    "k.pop()"
   ]
  },
  {
   "cell_type": "code",
   "execution_count": 90,
   "metadata": {
    "collapsed": false
   },
   "outputs": [
    {
     "data": {
      "text/plain": [
       "'shopping cart'"
      ]
     },
     "execution_count": 90,
     "metadata": {},
     "output_type": "execute_result"
    }
   ],
   "source": [
    "k.pop()"
   ]
  },
  {
   "cell_type": "code",
   "execution_count": 91,
   "metadata": {
    "collapsed": false
   },
   "outputs": [
    {
     "ename": "IndexError",
     "evalue": "list index out of range",
     "output_type": "error",
     "traceback": [
      "\u001b[1;31m---------------------------------------------------------------------------\u001b[0m",
      "\u001b[1;31mIndexError\u001b[0m                                Traceback (most recent call last)",
      "\u001b[1;32m<ipython-input-91-f61d59fa1299>\u001b[0m in \u001b[0;36m<module>\u001b[1;34m()\u001b[0m\n\u001b[1;32m----> 1\u001b[1;33m \u001b[0mk\u001b[0m\u001b[1;33m.\u001b[0m\u001b[0mpop\u001b[0m\u001b[1;33m(\u001b[0m\u001b[1;33m)\u001b[0m\u001b[1;33m\u001b[0m\u001b[0m\n\u001b[0m",
      "\u001b[1;32m<ipython-input-82-33285d787d57>\u001b[0m in \u001b[0;36mpop\u001b[1;34m(self)\u001b[0m\n\u001b[0;32m     14\u001b[0m         \u001b[0mself\u001b[0m\u001b[1;33m.\u001b[0m\u001b[0marray\u001b[0m\u001b[1;33m.\u001b[0m\u001b[0mappend\u001b[0m\u001b[1;33m(\u001b[0m\u001b[0mthing\u001b[0m\u001b[1;33m)\u001b[0m\u001b[1;33m\u001b[0m\u001b[0m\n\u001b[0;32m     15\u001b[0m     \u001b[1;32mdef\u001b[0m \u001b[0mpop\u001b[0m\u001b[1;33m(\u001b[0m\u001b[0mself\u001b[0m\u001b[1;33m)\u001b[0m\u001b[1;33m:\u001b[0m\u001b[1;33m\u001b[0m\u001b[0m\n\u001b[1;32m---> 16\u001b[1;33m         \u001b[0mstore\u001b[0m\u001b[1;33m=\u001b[0m\u001b[0mself\u001b[0m\u001b[1;33m.\u001b[0m\u001b[0marray\u001b[0m\u001b[1;33m[\u001b[0m\u001b[1;33m-\u001b[0m\u001b[1;36m1\u001b[0m\u001b[1;33m]\u001b[0m\u001b[1;33m\u001b[0m\u001b[0m\n\u001b[0m\u001b[0;32m     17\u001b[0m         \u001b[1;32mdel\u001b[0m \u001b[0mself\u001b[0m\u001b[1;33m.\u001b[0m\u001b[0marray\u001b[0m\u001b[1;33m[\u001b[0m\u001b[1;33m-\u001b[0m\u001b[1;36m1\u001b[0m\u001b[1;33m]\u001b[0m\u001b[1;33m\u001b[0m\u001b[0m\n\u001b[0;32m     18\u001b[0m         \u001b[1;32mreturn\u001b[0m \u001b[0mstore\u001b[0m\u001b[1;33m\u001b[0m\u001b[0m\n",
      "\u001b[1;31mIndexError\u001b[0m: list index out of range"
     ]
    }
   ],
   "source": [
    "k.pop()"
   ]
  },
  {
   "cell_type": "code",
   "execution_count": null,
   "metadata": {
    "collapsed": true
   },
   "outputs": [],
   "source": []
  }
 ],
 "metadata": {
  "kernelspec": {
   "display_name": "Python 2",
   "language": "python",
   "name": "python2"
  },
  "language_info": {
   "codemirror_mode": {
    "name": "ipython",
    "version": 2
   },
   "file_extension": ".py",
   "mimetype": "text/x-python",
   "name": "python",
   "nbconvert_exporter": "python",
   "pygments_lexer": "ipython2",
   "version": "2.7.6"
  }
 },
 "nbformat": 4,
 "nbformat_minor": 0
}
