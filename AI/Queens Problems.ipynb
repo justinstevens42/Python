{
 "cells": [
  {
   "cell_type": "code",
   "execution_count": null,
   "metadata": {
    "collapsed": true
   },
   "outputs": [],
   "source": [
    "import random\n"
   ]
  },
  {
   "cell_type": "code",
   "execution_count": null,
   "metadata": {
    "collapsed": false
   },
   "outputs": [],
   "source": [
    "random.randint(1,100)"
   ]
  },
  {
   "cell_type": "code",
   "execution_count": null,
   "metadata": {
    "collapsed": false
   },
   "outputs": [],
   "source": [
    "random.randint(20,50)"
   ]
  },
  {
   "cell_type": "code",
   "execution_count": null,
   "metadata": {
    "collapsed": false
   },
   "outputs": [],
   "source": [
    "list=[]\n",
    "for i in range(1,100):\n",
    "\n",
    "    list.append(random.randint(1,2))\n",
    "counter=0\n",
    "for j in list:\n",
    "   \n",
    "    if j==1:\n",
    "        counter+=1\n",
    "    else:\n",
    "        continue\n",
    "q=Queue()\n",
    "q.enqueue(counter)\n",
    "\n",
    "\n",
    "class Queue:\n",
    "    def __init__(self):\n",
    "        self.array=[]\n",
    "    def enqueue(self, thing):\n",
    "        self.array.append(thing)\n",
    "    def dequeue(self):\n",
    "        store=self.array[0]\n",
    "        del self.array[0]\n",
    "        return store\n"
   ]
  },
  {
   "cell_type": "code",
   "execution_count": null,
   "metadata": {
    "collapsed": true
   },
   "outputs": [],
   "source": [
    "random.seed(2)"
   ]
  },
  {
   "cell_type": "code",
   "execution_count": null,
   "metadata": {
    "collapsed": false
   },
   "outputs": [],
   "source": [
    "def IsSuccess(x):\n",
    "    return False\n",
    "print IsSuccess(1)"
   ]
  },
  {
   "cell_type": "code",
   "execution_count": 156,
   "metadata": {
    "collapsed": false
   },
   "outputs": [
    {
     "name": "stdout",
     "output_type": "stream",
     "text": [
      "[(0, 0), (1, 1), (2, 2), (3, 3), (4, 4), (5, 5), (6, 6), (7, 7)]\n",
      "False\n",
      "False\n"
     ]
    }
   ],
   "source": [
    "def IsSuccess(x):\n",
    "    l=[]\n",
    "    for i in range(8):\n",
    "        l.append((column.index(column[i]), column[i]))\n",
    "    print l\n",
    "    for a in l:\n",
    "        for b in l:\n",
    "            if a[0]-b[0]==a[1]-b[1] and a!=b:\n",
    "                 print \"False\"\n",
    "                 return False\n",
    "    return True\n",
    "column=range(8)\n",
    "print IsSuccess(column)\n",
    "def main():\n",
    "    column=range(8)\n",
    "    print IsSuccess(column)\n",
    "    while not IsSuccess(column):\n",
    "        random.shuffle(column)\n",
    "    return column\n",
    "    for i in range(8):\n",
    "        print column.index(column[i]), column[i]\n",
    "\n",
    "\n",
    "\n"
   ]
  },
  {
   "cell_type": "code",
   "execution_count": null,
   "metadata": {
    "collapsed": false
   },
   "outputs": [],
   "source": [
    "column=(5,0,4,1,7,2,6,3)\n",
    "column.index(4)\n"
   ]
  },
  {
   "cell_type": "code",
   "execution_count": null,
   "metadata": {
    "collapsed": false
   },
   "outputs": [],
   "source": [
    "l[1]"
   ]
  },
  {
   "cell_type": "code",
   "execution_count": null,
   "metadata": {
    "collapsed": true
   },
   "outputs": [],
   "source": [
    "z=[(i,j) for i in x for j in x if i<j]"
   ]
  },
  {
   "cell_type": "code",
   "execution_count": null,
   "metadata": {
    "collapsed": false
   },
   "outputs": [],
   "source": [
    "for j in l:\n",
    "    print \"2\""
   ]
  },
  {
   "cell_type": "code",
   "execution_count": null,
   "metadata": {
    "collapsed": true
   },
   "outputs": [],
   "source": []
  }
 ],
 "metadata": {
  "kernelspec": {
   "display_name": "Python 2",
   "language": "python",
   "name": "python2"
  },
  "language_info": {
   "codemirror_mode": {
    "name": "ipython",
    "version": 2
   },
   "file_extension": ".py",
   "mimetype": "text/x-python",
   "name": "python",
   "nbconvert_exporter": "python",
   "pygments_lexer": "ipython2",
   "version": "2.7.6"
  }
 },
 "nbformat": 4,
 "nbformat_minor": 0
}
