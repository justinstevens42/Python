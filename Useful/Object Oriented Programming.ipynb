{
 "cells": [
  {
   "cell_type": "code",
   "execution_count": 3,
   "metadata": {
    "collapsed": false
   },
   "outputs": [
    {
     "name": "stdout",
     "output_type": "stream",
     "text": [
      "\t\tDeath of an alien\n",
      "\n",
      "The player blasts an enemy.\n",
      "\n",
      "The alien gasps and says, 'Oh, this is it.  This is the big one. \n",
      "Yes, it's getting dark now.  Tell my 1.6 million larvae that I loved them... Goodbye, cruel universe\n",
      "\n",
      "\n",
      " Press the enter key to exit.\n"
     ]
    },
    {
     "data": {
      "text/plain": [
       "''"
      ]
     },
     "execution_count": 3,
     "metadata": {},
     "output_type": "execute_result"
    }
   ],
   "source": [
    "class Player(object):\n",
    "    def blast(self, enemy):\n",
    "        print \"The player blasts an enemy.\\n\"\n",
    "        enemy.die()\n",
    "\n",
    "class Alien(object):\n",
    "    def die(self):\n",
    "        \n",
    "        print \"The alien gasps and says, 'Oh, this is it.  This is the big one. \\n\" \\\n",
    "        \"Yes, it's getting dark now.  Tell my 1.6 million larvae that I loved them... Goodbye, cruel universe\"\n",
    "\n",
    "#main\n",
    "print \"\\t\\tDeath of an alien\\n\"\n",
    "\n",
    "hero=Player()\n",
    "invader=Alien()\n",
    "hero.blast(invader)\n",
    "\n",
    "raw_input(\"\\n\\n Press the enter key to exit.\")"
   ]
  },
  {
   "cell_type": "code",
   "execution_count": 112,
   "metadata": {
    "collapsed": false
   },
   "outputs": [
    {
     "name": "stdout",
     "output_type": "stream",
     "text": [
      "Printing a Card object:\n",
      "Ac\n",
      "\n",
      "Printing the rest of the objects individually:\n",
      "2c\n",
      "3c\n",
      "4c\n",
      "5c\n",
      "\n",
      "Printing my hand before I add any cards:\n",
      "<empty>\n",
      "\n",
      "Printing my hand after adding 5 cards:\n",
      "Ac 2c 3c 4c 5c \n",
      "\n",
      "Gave the first two cards from my hand to your hand\n",
      "Your hand:\n",
      "Ac 2c \n",
      "My hand:\n",
      "3c 4c 5c \n"
     ]
    }
   ],
   "source": [
    "class Card(object):\n",
    "    \"\"\"A playing card.\"\"\"\n",
    "    RANKS=[\"A\", \"2\", \"3\", \"4\", \"5\", \"6\", \"7\", \"8\", \"9\", \"10\", \"J\", \"Q\", \"K\"]\n",
    "    SUITS=[\"c\", \"d\", \"h\", \"s\"]\n",
    "    \n",
    "    def __init__(self, rank, suit):\n",
    "        self.rank=rank\n",
    "        self.suit=suit\n",
    "    def __str__(self):\n",
    "        rep=self.rank+self.suit\n",
    "        return rep\n",
    "class Hand(object):\n",
    "    \"\"\"A hand of playing cards.\"\"\"\n",
    "    def __init__(self):\n",
    "        self.cards=[]\n",
    "    def __str__(self):\n",
    "        if self.cards:\n",
    "            rep=\"\"\n",
    "            for card in self.cards:\n",
    "                rep+= str(card)+ \" \"\n",
    "        else:\n",
    "            rep=\"<empty>\"\n",
    "        return rep\n",
    "    def clear(self):\n",
    "        self.cards=[]\n",
    "    def add(self, card):\n",
    "        self.cards.append(card)\n",
    "    def give(self, card, other_hand):\n",
    "        self.cards.remove(card)\n",
    "        other_hand.add(card)\n",
    "card1=Card(rank=\"A\", suit=\"c\")\n",
    "print \"Printing a Card object:\"\n",
    "print card1\n",
    "\n",
    "card2=Card(rank=\"2\", suit=\"c\")\n",
    "card3=Card(rank=\"3\", suit=\"c\")\n",
    "card4=Card(rank=\"4\", suit=\"c\")\n",
    "card5=Card(rank=\"5\", suit=\"c\")\n",
    "print \"\\nPrinting the rest of the objects individually:\"\n",
    "print card2\n",
    "print card3\n",
    "print card4\n",
    "print card5\n",
    "\n",
    "my_hand=Hand()\n",
    "print \"\\nPrinting my hand before I add any cards:\"\n",
    "print my_hand\n",
    "\n",
    "my_hand.add(card1)\n",
    "my_hand.add(card2)\n",
    "my_hand.add(card3)\n",
    "my_hand.add(card4)\n",
    "my_hand.add(card5)\n",
    "print\"\\nPrinting my hand after adding 5 cards:\"\n",
    "print my_hand\n",
    "\n",
    "your_hand=Hand()\n",
    "my_hand.give(card1, your_hand)\n",
    "my_hand.give(card2, your_hand)\n",
    "print \"\\nGave the first two cards from my hand to your hand\"\n",
    "print \"Your hand:\"\n",
    "print your_hand\n",
    "print \"My hand:\"\n",
    "print my_hand\n",
    "    "
   ]
  },
  {
   "cell_type": "code",
   "execution_count": null,
   "metadata": {
    "collapsed": false
   },
   "outputs": [],
   "source": []
  },
  {
   "cell_type": "code",
   "execution_count": null,
   "metadata": {
    "collapsed": false
   },
   "outputs": [],
   "source": [
    "\n"
   ]
  },
  {
   "cell_type": "code",
   "execution_count": null,
   "metadata": {
    "collapsed": false
   },
   "outputs": [],
   "source": []
  },
  {
   "cell_type": "code",
   "execution_count": null,
   "metadata": {
    "collapsed": false
   },
   "outputs": [],
   "source": [
    "\n",
    "\n"
   ]
  },
  {
   "cell_type": "raw",
   "metadata": {},
   "source": []
  },
  {
   "cell_type": "code",
   "execution_count": 108,
   "metadata": {
    "collapsed": false
   },
   "outputs": [
    {
     "name": "stdout",
     "output_type": "stream",
     "text": [
      "\n",
      "        Critter Caretaker\n",
      "        0 - Quit\n",
      "        1 - Listen to your critter\n",
      "        2 - Feed your critter\n",
      "        3 - Play with your critter\n",
      "        \n",
      "Choice: 2\n"
     ]
    },
    {
     "ename": "AttributeError",
     "evalue": "'Critter1' object has no attribute 'eat'",
     "output_type": "error",
     "traceback": [
      "\u001b[1;31m---------------------------------------------------------------------------\u001b[0m",
      "\u001b[1;31mAttributeError\u001b[0m                            Traceback (most recent call last)",
      "\u001b[1;32m<ipython-input-108-973701ba6ba3>\u001b[0m in \u001b[0;36m<module>\u001b[1;34m()\u001b[0m\n\u001b[1;32m----> 1\u001b[1;33m \u001b[1;32mclass\u001b[0m \u001b[0mCritter\u001b[0m\u001b[1;33m(\u001b[0m\u001b[0mobject\u001b[0m\u001b[1;33m)\u001b[0m\u001b[1;33m:\u001b[0m\u001b[1;33m\u001b[0m\u001b[0m\n\u001b[0m\u001b[0;32m      2\u001b[0m     \u001b[1;32mdef\u001b[0m \u001b[0m__init__\u001b[0m\u001b[1;33m(\u001b[0m\u001b[0mself\u001b[0m\u001b[1;33m,\u001b[0m \u001b[0mname\u001b[0m\u001b[1;33m,\u001b[0m \u001b[0mhunger\u001b[0m\u001b[1;33m=\u001b[0m\u001b[1;36m0\u001b[0m\u001b[1;33m,\u001b[0m \u001b[0mboredom\u001b[0m\u001b[1;33m=\u001b[0m\u001b[1;36m0\u001b[0m\u001b[1;33m)\u001b[0m\u001b[1;33m:\u001b[0m\u001b[1;33m\u001b[0m\u001b[0m\n\u001b[0;32m      3\u001b[0m         \u001b[0mself\u001b[0m\u001b[1;33m.\u001b[0m\u001b[0mname\u001b[0m\u001b[1;33m=\u001b[0m\u001b[0mname\u001b[0m\u001b[1;33m\u001b[0m\u001b[0m\n\u001b[0;32m      4\u001b[0m         \u001b[0mself\u001b[0m\u001b[1;33m.\u001b[0m\u001b[0mhunger\u001b[0m\u001b[1;33m=\u001b[0m\u001b[0mhunger\u001b[0m\u001b[1;33m\u001b[0m\u001b[0m\n\u001b[0;32m      5\u001b[0m         \u001b[0mself\u001b[0m\u001b[1;33m.\u001b[0m\u001b[0mboredom\u001b[0m\u001b[1;33m=\u001b[0m\u001b[0mboredom\u001b[0m\u001b[1;33m\u001b[0m\u001b[0m\n",
      "\u001b[1;32m<ipython-input-108-973701ba6ba3>\u001b[0m in \u001b[0;36mCritter\u001b[1;34m()\u001b[0m\n\u001b[0;32m     57\u001b[0m         \u001b[1;31m#feed your critter\u001b[0m\u001b[1;33m\u001b[0m\u001b[1;33m\u001b[0m\u001b[0m\n\u001b[0;32m     58\u001b[0m         \u001b[1;32melif\u001b[0m \u001b[0mchoice\u001b[0m \u001b[1;33m==\u001b[0m \u001b[1;34m\"2\"\u001b[0m\u001b[1;33m:\u001b[0m\u001b[1;33m\u001b[0m\u001b[0m\n\u001b[1;32m---> 59\u001b[1;33m             \u001b[0mcrit\u001b[0m\u001b[1;33m.\u001b[0m\u001b[0meat\u001b[0m\u001b[1;33m(\u001b[0m\u001b[1;33m)\u001b[0m\u001b[1;33m\u001b[0m\u001b[0m\n\u001b[0m\u001b[0;32m     60\u001b[0m         \u001b[1;32melif\u001b[0m \u001b[0mchoice\u001b[0m \u001b[1;33m==\u001b[0m \u001b[1;34m\"3\"\u001b[0m\u001b[1;33m:\u001b[0m\u001b[1;33m\u001b[0m\u001b[0m\n\u001b[0;32m     61\u001b[0m             \u001b[0mcrit\u001b[0m\u001b[1;33m.\u001b[0m\u001b[0mplay\u001b[0m\u001b[1;33m(\u001b[0m\u001b[1;33m)\u001b[0m\u001b[1;33m\u001b[0m\u001b[0m\n",
      "\u001b[1;31mAttributeError\u001b[0m: 'Critter1' object has no attribute 'eat'"
     ]
    }
   ],
   "source": [
    "class Critter(object):\n",
    "    def __init__(self, name, hunger=0, boredom=0):\n",
    "        self.name=name\n",
    "        self.hunger=hunger\n",
    "        self.boredom=boredom\n",
    "    def __pass_time(self):\n",
    "        self.hunger +=1\n",
    "        self.boredom +=1\n",
    "        print self.hunger\n",
    "        print self.boredom\n",
    "    def __get_mood(self):\n",
    "        unhappiness=self.hunger+self.boredom\n",
    "        if unhappiness <5:\n",
    "            mood=\"happy\"\n",
    "        elif 5<=unhappiness<=10:\n",
    "            mood=\"okay\"\n",
    "        elif 11<=unhappiness<=15:\n",
    "            mood=\"frustrated\"\n",
    "        else:\n",
    "            mood=\"mad\"\n",
    "        return mood\n",
    "    mood=property(__get_mood)\n",
    "    def talk(self):\n",
    "        print \"I'm\", self.name, \"and I feel\", self.mood, \"now.\\n\"\n",
    "        self.__pass_time()\n",
    "    def eat(self, food=4):\n",
    "        print \"Thank you.\"\n",
    "        self.hunger -= food\n",
    "        if self.hunger<0:\n",
    "            self.hunger=0\n",
    "        self.__pass_time()\n",
    "    def play(self, fun=4):\n",
    "        print \"Thank you.\"\n",
    "        self.boredom -=fun\n",
    "        if self.boredom <0:\n",
    "            self.boredom=0\n",
    "        self.__pass_time()\n",
    "    def main():\n",
    "        crit_name=raw_input(\"What do you want to name your critter?:  \")\n",
    "        crit=Critter(crit_name)\n",
    "    choice=None\n",
    "    while choice!=\"0\":\n",
    "        print \\\n",
    "        \"\"\"\n",
    "        Critter Caretaker\n",
    "        0 - Quit\n",
    "        1 - Listen to your critter\n",
    "        2 - Feed your critter\n",
    "        3 - Play with your critter\n",
    "        \"\"\"\n",
    "        choice=raw_input(\"Choice: \")\n",
    "        #exit\n",
    "        if choice == \"0\":\n",
    "            print \"Bye\"\n",
    "        #listen to your critter\n",
    "        elif choice == \"1\":\n",
    "            crit.talk()\n",
    "        #feed your critter\n",
    "        elif choice == \"2\":\n",
    "            crit.eat()\n",
    "        elif choice == \"3\":\n",
    "            crit.play()\n",
    "        #some unknown choice\n",
    "        else:\n",
    "            print \"\\nSorry, but\", choice, \"isn't a valid choice.\"\n",
    "main()\n",
    "    "
   ]
  },
  {
   "cell_type": "code",
   "execution_count": null,
   "metadata": {
    "collapsed": false
   },
   "outputs": [],
   "source": []
  },
  {
   "cell_type": "code",
   "execution_count": null,
   "metadata": {
    "collapsed": false
   },
   "outputs": [],
   "source": []
  },
  {
   "cell_type": "code",
   "execution_count": null,
   "metadata": {
    "collapsed": false
   },
   "outputs": [],
   "source": [
    "\n"
   ]
  },
  {
   "cell_type": "code",
   "execution_count": null,
   "metadata": {
    "collapsed": false
   },
   "outputs": [],
   "source": []
  },
  {
   "cell_type": "code",
   "execution_count": null,
   "metadata": {
    "collapsed": false
   },
   "outputs": [],
   "source": []
  },
  {
   "cell_type": "code",
   "execution_count": null,
   "metadata": {
    "collapsed": false
   },
   "outputs": [],
   "source": []
  },
  {
   "cell_type": "code",
   "execution_count": null,
   "metadata": {
    "collapsed": false
   },
   "outputs": [],
   "source": []
  },
  {
   "cell_type": "code",
   "execution_count": null,
   "metadata": {
    "collapsed": false
   },
   "outputs": [],
   "source": []
  },
  {
   "cell_type": "code",
   "execution_count": null,
   "metadata": {
    "collapsed": false
   },
   "outputs": [],
   "source": []
  },
  {
   "cell_type": "code",
   "execution_count": null,
   "metadata": {
    "collapsed": false
   },
   "outputs": [],
   "source": []
  },
  {
   "cell_type": "code",
   "execution_count": null,
   "metadata": {
    "collapsed": false
   },
   "outputs": [],
   "source": []
  },
  {
   "cell_type": "code",
   "execution_count": null,
   "metadata": {
    "collapsed": false
   },
   "outputs": [],
   "source": []
  },
  {
   "cell_type": "code",
   "execution_count": null,
   "metadata": {
    "collapsed": true
   },
   "outputs": [],
   "source": []
  }
 ],
 "metadata": {
  "kernelspec": {
   "display_name": "Python 2",
   "language": "python",
   "name": "python2"
  },
  "language_info": {
   "codemirror_mode": {
    "name": "ipython",
    "version": 2
   },
   "file_extension": ".py",
   "mimetype": "text/x-python",
   "name": "python",
   "nbconvert_exporter": "python",
   "pygments_lexer": "ipython2",
   "version": "2.7.6"
  }
 },
 "nbformat": 4,
 "nbformat_minor": 0
}
