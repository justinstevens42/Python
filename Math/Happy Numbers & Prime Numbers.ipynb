{
 "cells": [
  {
   "cell_type": "code",
   "execution_count": 16,
   "metadata": {
    "collapsed": false
   },
   "outputs": [],
   "source": [
    "def SquareSum(x):\n",
    "    x=str(x)\n",
    "    count=0\n",
    "    for i in range(len(x)):\n",
    "        count+= int(x[i])**2\n",
    "    return count\n",
    "def happy(x):\n",
    "    while x!=4:\n",
    "        x=SquareSum(x)\n",
    "        if x==1:\n",
    "            return True\n",
    "    return False\n",
    "def Show(y):\n",
    "    for x in range(1,y):\n",
    "        if happy(x)==True:\n",
    "            print x\n",
    "        else:\n",
    "            continue\n",
    "def prime(n):\n",
    "    for x in range (2, int(n**0.5)):\n",
    "        if n%x==0:\n",
    "            return False\n",
    "    return True\n",
    "def HappyPrime(n):\n",
    "    return prime(n) and happy(n)\n",
    "def Show_HappyPrime(n):\n",
    "    for x in range(1,n):\n",
    "         if HappyPrime(x)==True:\n",
    "                print n\n",
    "         else:\n",
    "            continue\n",
    "\n"
   ]
  },
  {
   "cell_type": "code",
   "execution_count": 17,
   "metadata": {
    "collapsed": false
   },
   "outputs": [
    {
     "name": "stdout",
     "output_type": "stream",
     "text": [
      "100\n",
      "100\n",
      "100\n",
      "100\n",
      "100\n",
      "100\n",
      "100\n",
      "100\n",
      "100\n"
     ]
    }
   ],
   "source": [
    "Show_HappyPrime(100)"
   ]
  },
  {
   "cell_type": "code",
   "execution_count": null,
   "metadata": {
    "collapsed": true
   },
   "outputs": [],
   "source": []
  }
 ],
 "metadata": {
  "kernelspec": {
   "display_name": "Python 2",
   "language": "python",
   "name": "python2"
  },
  "language_info": {
   "codemirror_mode": {
    "name": "ipython",
    "version": 2
   },
   "file_extension": ".py",
   "mimetype": "text/x-python",
   "name": "python",
   "nbconvert_exporter": "python",
   "pygments_lexer": "ipython2",
   "version": "2.7.6"
  }
 },
 "nbformat": 4,
 "nbformat_minor": 0
}
