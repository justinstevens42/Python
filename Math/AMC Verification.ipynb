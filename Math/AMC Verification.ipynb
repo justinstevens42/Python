{
 "cells": [
  {
   "cell_type": "code",
   "execution_count": 36,
   "metadata": {
    "collapsed": false
   },
   "outputs": [
    {
     "name": "stdout",
     "output_type": "stream",
     "text": [
      "97335\n"
     ]
    }
   ],
   "source": [
    "counter=0\n",
    "for i in range(1,1000):\n",
    "    i=str(i)\n",
    "    product=1\n",
    "    for j in range(0, len(i)):\n",
    "        if i[j]!='0':\n",
    "            product=product*int(i[j])\n",
    "        else:\n",
    "            continue\n",
    "    counter+=product\n",
    "print counter\n",
    "\n",
    "\n",
    "    "
   ]
  },
  {
   "cell_type": "code",
   "execution_count": 32,
   "metadata": {
    "collapsed": false
   },
   "outputs": [
    {
     "name": "stdout",
     "output_type": "stream",
     "text": [
      "0\n"
     ]
    }
   ],
   "source": [
    "i=str(50)\n",
    "product=1\n",
    "for j in range(0, len(i)):\n",
    "    if i[j]!=0:\n",
    "        product=product*int(i[j])\n",
    "    else:\n",
    "        continue\n",
    "print product"
   ]
  },
  {
   "cell_type": "code",
   "execution_count": null,
   "metadata": {
    "collapsed": true
   },
   "outputs": [],
   "source": []
  }
 ],
 "metadata": {
  "kernelspec": {
   "display_name": "Python 2",
   "language": "python",
   "name": "python2"
  },
  "language_info": {
   "codemirror_mode": {
    "name": "ipython",
    "version": 2
   },
   "file_extension": ".py",
   "mimetype": "text/x-python",
   "name": "python",
   "nbconvert_exporter": "python",
   "pygments_lexer": "ipython2",
   "version": "2.7.6"
  }
 },
 "nbformat": 4,
 "nbformat_minor": 0
}
