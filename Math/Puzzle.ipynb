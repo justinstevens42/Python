{
 "cells": [
  {
   "cell_type": "code",
   "execution_count": 2,
   "metadata": {
    "collapsed": false
   },
   "outputs": [
    {
     "name": "stdout",
     "output_type": "stream",
     "text": [
      "This is a simulator for a puzzle \n",
      "\n",
      "745\n"
     ]
    }
   ],
   "source": [
    "import random\n",
    "def ComputerGuess(guess, the_number):\n",
    "    tries=9\n",
    "    pow2=256\n",
    "    while(tries>0 and guess!=the_number):\n",
    "        if(guess>the_number):\n",
    "            #print guess, \"is too high:\",\n",
    "            tries-=1\n",
    "            #print \"**You have\", tries, \"guesses left**\\n\"\n",
    "            pow2/=2\n",
    "            guess-=pow2\n",
    "        elif(guess<the_number):\n",
    "            #print guess, \"is too low:\",\n",
    "            tries-=1\n",
    "            #print \"**You have\", tries, \"guesses left**\\n\"\n",
    "            pow2/=2\n",
    "            guess+=pow2\n",
    "        if(guess==the_number and tries!=0):\n",
    "            return True\n",
    "            #print \"Nice!  The number was \", guess\n",
    "    return False\n",
    "    \n",
    "    \n",
    "\n",
    "def main():\n",
    "    print \"This is a simulator for a puzzle \\n\"\n",
    "    BestSum=0\n",
    "    BestStart=0\n",
    "    for guess in range(1,1001):\n",
    "        Sum=0\n",
    "        for the_number in range(1,1001):\n",
    "            if ComputerGuess(guess, the_number):\n",
    "                Sum+=the_number\n",
    "        if(Sum>BestSum):\n",
    "            BestSum=Sum\n",
    "            BestStart=guess\n",
    "    print BestStart\n",
    "\n",
    "main()"
   ]
  },
  {
   "cell_type": "code",
   "execution_count": 1,
   "metadata": {
    "collapsed": true
   },
   "outputs": [],
   "source": [
    "def HumanGuess(the_number):\n",
    "    tries=10\n",
    "    guess=0\n",
    "    while(tries>=0 and guess!=the_number):\n",
    "        guess=int(raw_input(\"Guess the number (between 1 to 1000, inclusive):\"))\n",
    "        if(guess>the_number):\n",
    "            print guess, \"is too high:\",\n",
    "            tries-=1\n",
    "            print \"**You have\", tries, \"guesses left**\\n\"\n",
    "        elif(guess<the_number):\n",
    "            print guess, \"is too low:\",\n",
    "            tries-=1\n",
    "            print \"**You have\", tries, \"guesses left**\\n\"\n",
    "        else:\n",
    "            print \"Nice!  The number was \", guess"
   ]
  },
  {
   "cell_type": "code",
   "execution_count": null,
   "metadata": {
    "collapsed": true
   },
   "outputs": [],
   "source": []
  }
 ],
 "metadata": {
  "kernelspec": {
   "display_name": "Python 2",
   "language": "python",
   "name": "python2"
  },
  "language_info": {
   "codemirror_mode": {
    "name": "ipython",
    "version": 2
   },
   "file_extension": ".py",
   "mimetype": "text/x-python",
   "name": "python",
   "nbconvert_exporter": "python",
   "pygments_lexer": "ipython2",
   "version": "2.7.6"
  }
 },
 "nbformat": 4,
 "nbformat_minor": 0
}
