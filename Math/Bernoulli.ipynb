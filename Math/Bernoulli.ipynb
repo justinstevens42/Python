{
 "cells": [
  {
   "cell_type": "code",
   "execution_count": 1,
   "metadata": {
    "collapsed": false
   },
   "outputs": [
    {
     "name": "stdout",
     "output_type": "stream",
     "text": [
      "B( 0) =                                            1/1\n",
      "B( 1) =                                            1/2\n",
      "B( 2) =                                            1/6\n",
      "B( 4) =                                           -1/30\n",
      "B( 6) =                                            1/42\n",
      "B( 8) =                                           -1/30\n",
      "B(10) =                                            5/66\n",
      "B(12) =                                         -691/2730\n",
      "B(14) =                                            7/6\n",
      "B(16) =                                        -3617/510\n",
      "B(18) =                                        43867/798\n",
      "B(20) =                                      -174611/330\n",
      "B(22) =                                       854513/138\n",
      "B(24) =                                   -236364091/2730\n",
      "B(26) =                                      8553103/6\n",
      "B(28) =                                 -23749461029/870\n",
      "B(30) =                                8615841276005/14322\n",
      "B(32) =                               -7709321041217/510\n",
      "B(34) =                                2577687858367/6\n",
      "B(36) =                        -26315271553053477373/1919190\n",
      "B(38) =                             2929993913841559/6\n",
      "B(40) =                       -261082718496449122051/13530\n",
      "B(42) =                       1520097643918070802691/1806\n",
      "B(44) =                     -27833269579301024235023/690\n",
      "B(46) =                     596451111593912163277961/282\n",
      "B(48) =                -5609403368997817686249127547/46410\n",
      "B(50) =                  495057205241079648212477525/66\n",
      "B(52) =              -801165718135489957347924991853/1590\n",
      "B(54) =             29149963634884862421418123812691/798\n",
      "B(56) =          -2479392929313226753685415739663229/870\n",
      "B(58) =          84483613348880041862046775994036021/354\n",
      "B(60) = -1215233140483755572040304994079820246041491/56786730\n"
     ]
    }
   ],
   "source": [
    "from fractions import Fraction as Fr\n",
    " \n",
    "def bernoulli(n):\n",
    "    A = [0] * (n+1)\n",
    "    for m in range(n+1):\n",
    "        A[m] = Fr(1, m+1)\n",
    "        for j in range(m, 0, -1):\n",
    "          A[j-1] = j*(A[j-1] - A[j])\n",
    "    return A[0] # (which is Bn)\n",
    " \n",
    "bn = [(i, bernoulli(i)) for i in range(61)]\n",
    "bn = [(i, b) for i,b in bn if b]\n",
    "width = max(len(str(b.numerator)) for i,b in bn)\n",
    "for i,b in bn:\n",
    "    print('B(%2i) = %*i/%i' % (i, width, b.numerator, b.denominator))"
   ]
  },
  {
   "cell_type": "code",
   "execution_count": null,
   "metadata": {
    "collapsed": true
   },
   "outputs": [],
   "source": []
  }
 ],
 "metadata": {
  "kernelspec": {
   "display_name": "Python 2",
   "language": "python",
   "name": "python2"
  },
  "language_info": {
   "codemirror_mode": {
    "name": "ipython",
    "version": 2
   },
   "file_extension": ".py",
   "mimetype": "text/x-python",
   "name": "python",
   "nbconvert_exporter": "python",
   "pygments_lexer": "ipython2",
   "version": "2.7.6"
  }
 },
 "nbformat": 4,
 "nbformat_minor": 0
}
