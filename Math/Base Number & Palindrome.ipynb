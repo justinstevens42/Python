{
 "cells": [
  {
   "cell_type": "code",
   "execution_count": 1,
   "metadata": {
    "collapsed": false
   },
   "outputs": [],
   "source": [
    "def answer(n):\n",
    "    b=1\n",
    "    x=[1,0]\n",
    "    while not IsPalindrome(x):\n",
    "        b+=1\n",
    "        x=base(n, b)\n",
    "    return b\n",
    "        # your code here\n",
    "def base(i, base):\n",
    "    i = int(i)  # if i is a string, convert to int\n",
    "    assert i >= 0, 'i must be nonnegative'\n",
    "    assert base > 1, 'need base > 1'\n",
    "    if i == 0:\n",
    "        return [0]\n",
    "    coef = []\n",
    "    while i != 0:\n",
    "        coef.append(i % base)\n",
    "        i = i//base\n",
    "    coef=coef[::-1]\n",
    "    return coef\n",
    "def IsPalindrome(x):\n",
    "    \"\"\"Takes string input\"\"\"\n",
    "    i=0\n",
    "    y=True\n",
    "    while y and i<len(x)-1:\n",
    "        if x[i]==x[len(x)-i-1]:\n",
    "            y=True\n",
    "        if x[i]!=x[len(x)-i-1]:\n",
    "            return False\n",
    "        i+=1\n",
    "    return y"
   ]
  },
  {
   "cell_type": "code",
   "execution_count": 6,
   "metadata": {
    "collapsed": false
   },
   "outputs": [
    {
     "data": {
      "text/plain": [
       "1670"
      ]
     },
     "execution_count": 6,
     "metadata": {},
     "output_type": "execute_result"
    }
   ],
   "source": [
    "answer(4088328465)"
   ]
  },
  {
   "cell_type": "code",
   "execution_count": 103,
   "metadata": {
    "collapsed": false
   },
   "outputs": [
    {
     "data": {
      "text/plain": [
       "1"
      ]
     },
     "execution_count": 103,
     "metadata": {},
     "output_type": "execute_result"
    }
   ],
   "source": [
    "answer(1000)"
   ]
  },
  {
   "cell_type": "code",
   "execution_count": null,
   "metadata": {
    "collapsed": true
   },
   "outputs": [],
   "source": []
  }
 ],
 "metadata": {
  "kernelspec": {
   "display_name": "Python 2",
   "language": "python",
   "name": "python2"
  },
  "language_info": {
   "codemirror_mode": {
    "name": "ipython",
    "version": 2
   },
   "file_extension": ".py",
   "mimetype": "text/x-python",
   "name": "python",
   "nbconvert_exporter": "python",
   "pygments_lexer": "ipython2",
   "version": "2.7.6"
  }
 },
 "nbformat": 4,
 "nbformat_minor": 0
}
