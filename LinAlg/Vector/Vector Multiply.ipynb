{
 "cells": [
  {
   "cell_type": "code",
   "execution_count": 137,
   "metadata": {
    "collapsed": false
   },
   "outputs": [],
   "source": [
    "class Vector:\n",
    "    def __init__(self, vec):\n",
    "        assert isinstance(vec, list)\n",
    "        self.vec=vec\n",
    "    def __getitem__(self, index):\n",
    "        assert index<=len(self.vec)-1\n",
    "        return self.vec[index]\n",
    "    def __setitem__(self, index, val):\n",
    "        assert index<=len(self.vec)-1\n",
    "        self.vec[index]=val\n",
    "    def __eq__(self, other):\n",
    "        return self.vec==other.vec\n",
    "    def __ne__(self, other):\n",
    "        return not self.__eq__(other)\n",
    "    def __neg__(self):\n",
    "        return [element*-1 for element in self.vec]\n",
    "    def __add__(self, other):\n",
    "        assert isinstance(other, Vector)\n",
    "        assert len(self.vec)==len(other.vec)\n",
    "        return [self.vec[i]+other.vec[i] for i in range(len(self.vec))]\n",
    "    def __sub__(a,b):\n",
    "        return a.vec+(b.__neq__(b))\n",
    "        \n",
    "    def __rmul__(self, other):\n",
    "        \"\"\"Multiply a vector by a scalar\"\"\"\n",
    "        assert isinstance(other, (int, float))\n",
    "        return [other*element for element in self.vec]\n",
    "        "
   ]
  },
  {
   "cell_type": "code",
   "execution_count": 127,
   "metadata": {
    "collapsed": true
   },
   "outputs": [],
   "source": [
    "x=Vector([0,1,2])"
   ]
  },
  {
   "cell_type": "code",
   "execution_count": 128,
   "metadata": {
    "collapsed": true
   },
   "outputs": [],
   "source": [
    "y=Vector([0,1,2])"
   ]
  },
  {
   "cell_type": "code",
   "execution_count": 136,
   "metadata": {
    "collapsed": false
   },
   "outputs": [
    {
     "ename": "TypeError",
     "evalue": "can only concatenate list (not \"instance\") to list",
     "output_type": "error",
     "traceback": [
      "\u001b[1;31m---------------------------------------------------------------------------\u001b[0m",
      "\u001b[1;31mTypeError\u001b[0m                                 Traceback (most recent call last)",
      "\u001b[1;32m<ipython-input-136-bd2c4151c3fa>\u001b[0m in \u001b[0;36m<module>\u001b[1;34m()\u001b[0m\n\u001b[1;32m----> 1\u001b[1;33m \u001b[1;33m(\u001b[0m\u001b[1;36m2\u001b[0m\u001b[1;33m*\u001b[0m\u001b[0mx\u001b[0m\u001b[1;33m)\u001b[0m\u001b[1;33m+\u001b[0m\u001b[0my\u001b[0m\u001b[1;33m\u001b[0m\u001b[0m\n\u001b[0m",
      "\u001b[1;31mTypeError\u001b[0m: can only concatenate list (not \"instance\") to list"
     ]
    }
   ],
   "source": [
    "(2*x)+y"
   ]
  },
  {
   "cell_type": "code",
   "execution_count": null,
   "metadata": {
    "collapsed": true
   },
   "outputs": [],
   "source": []
  }
 ],
 "metadata": {
  "kernelspec": {
   "display_name": "Python 2",
   "language": "python",
   "name": "python2"
  },
  "language_info": {
   "codemirror_mode": {
    "name": "ipython",
    "version": 2
   },
   "file_extension": ".py",
   "mimetype": "text/x-python",
   "name": "python",
   "nbconvert_exporter": "python",
   "pygments_lexer": "ipython2",
   "version": "2.7.6"
  }
 },
 "nbformat": 4,
 "nbformat_minor": 0
}
