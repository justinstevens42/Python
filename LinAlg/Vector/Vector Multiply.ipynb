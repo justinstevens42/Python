{
 "cells": [
  {
   "cell_type": "code",
   "execution_count": 31,
   "metadata": {
    "collapsed": false
   },
   "outputs": [],
   "source": [
    "#Written by Justin Stevens\n",
    "#Last Modified:  February 28th, 2016\n",
    "class Vector:\n",
    "    def __init__(self, vec):\n",
    "        assert isinstance(vec, list)\n",
    "        self.vec=vec\n",
    "    def __getitem__(self, index):\n",
    "        assert index<=len(self.vec)-1\n",
    "        return self.vec[index]\n",
    "    def __setitem__(self, index, val):\n",
    "        assert index<=len(self.vec)-1\n",
    "        self.vec[index]=val\n",
    "    def __eq__(self, other):\n",
    "        return self.vec==other.vec\n",
    "    def __ne__(self, other):\n",
    "        return not self.__eq__(other)\n",
    "    def __neg__(self):\n",
    "        return Vector([element*-1 for element in self.vec])\n",
    "    def __add__(self, other):\n",
    "        assert isinstance(other, Vector)\n",
    "        assert len(self.vec)==len(other.vec)\n",
    "        return Vector([self.vec[i]+other.vec[i] for i in range(len(self.vec))])\n",
    "    def __sub__(a,b):\n",
    "        return Vector(a.vec)+(-Vector(b.vec))\n",
    "        \n",
    "    def __rmul__(self, other):\n",
    "        \"\"\"Multiply a vector by a scalar\"\"\"\n",
    "        assert isinstance(other, (int, float))\n",
    "        return Vector([other*element for element in self.vec])\n",
    "        "
   ]
  },
  {
   "cell_type": "code",
   "execution_count": 32,
   "metadata": {
    "collapsed": true
   },
   "outputs": [],
   "source": [
    "x=Vector([0,1,2])"
   ]
  },
  {
   "cell_type": "code",
   "execution_count": 33,
   "metadata": {
    "collapsed": false
   },
   "outputs": [
    {
     "data": {
      "text/plain": [
       "<__main__.Vector instance at 0x7f23932890e0>"
      ]
     },
     "execution_count": 33,
     "metadata": {},
     "output_type": "execute_result"
    }
   ],
   "source": [
    "x-y"
   ]
  },
  {
   "cell_type": "code",
   "execution_count": 34,
   "metadata": {
    "collapsed": false
   },
   "outputs": [
    {
     "data": {
      "text/plain": [
       "[0, 0, 0]"
      ]
     },
     "execution_count": 34,
     "metadata": {},
     "output_type": "execute_result"
    }
   ],
   "source": [
    "(x-y).vec\n"
   ]
  },
  {
   "cell_type": "code",
   "execution_count": 29,
   "metadata": {
    "collapsed": false
   },
   "outputs": [
    {
     "data": {
      "text/plain": [
       "<__main__.Vector instance at 0x7f2393281170>"
      ]
     },
     "execution_count": 29,
     "metadata": {},
     "output_type": "execute_result"
    }
   ],
   "source": [
    "y"
   ]
  },
  {
   "cell_type": "code",
   "execution_count": 30,
   "metadata": {
    "collapsed": false
   },
   "outputs": [
    {
     "data": {
      "text/plain": [
       "[0, 1, 2]"
      ]
     },
     "execution_count": 30,
     "metadata": {},
     "output_type": "execute_result"
    }
   ],
   "source": [
    "y.vec"
   ]
  },
  {
   "cell_type": "code",
   "execution_count": null,
   "metadata": {
    "collapsed": true
   },
   "outputs": [],
   "source": []
  }
 ],
 "metadata": {
  "kernelspec": {
   "display_name": "Python 2",
   "language": "python",
   "name": "python2"
  },
  "language_info": {
   "codemirror_mode": {
    "name": "ipython",
    "version": 2
   },
   "file_extension": ".py",
   "mimetype": "text/x-python",
   "name": "python",
   "nbconvert_exporter": "python",
   "pygments_lexer": "ipython2",
   "version": "2.7.6"
  }
 },
 "nbformat": 4,
 "nbformat_minor": 0
}
