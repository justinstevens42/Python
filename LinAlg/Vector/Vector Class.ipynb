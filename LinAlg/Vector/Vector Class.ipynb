{
 "cells": [
  {
   "cell_type": "code",
   "execution_count": 2,
   "metadata": {
    "collapsed": false
   },
   "outputs": [],
   "source": [
    "#Written by Justin Stevens \n",
    "#With inspiration from Phillip N. Klein at https://www.coursera.org/course/matrix\n",
    "#Last Modified:  February 28th, 2016\n",
    "class Vector:\n",
    "    def __init__(self, vec):\n",
    "        assert isinstance(vec, list)\n",
    "        self.vec=vec\n",
    "    def __getitem__(self, index):\n",
    "        assert index<=len(self.vec)-1\n",
    "        return self.vec[index]\n",
    "    def __setitem__(self, index, val):\n",
    "        assert index<=len(self.vec)-1\n",
    "        self.vec[index]=val\n",
    "    def __eq__(self, other):\n",
    "        return self.vec==other.vec\n",
    "    def __ne__(self, other):\n",
    "        return not self.__eq__(other)\n",
    "    def __neg__(self):\n",
    "        return Vector([element*-1 for element in self.vec])\n",
    "    def __add__(self, other):\n",
    "        assert isinstance(other, Vector)\n",
    "        assert len(self.vec)==len(other.vec)\n",
    "        return Vector([self.vec[i]+other.vec[i] for i in range(len(self.vec))])\n",
    "    def __sub__(a,b):\n",
    "        return Vector(a.vec)+(-Vector(b.vec))\n",
    "    def __mul__(self, other):\n",
    "        if isinstance(other, Vector):\n",
    "            #Dot Product\n",
    "            return sum([self.vec[i]*other.vec[i] for i in range(len(self.vec))])\n",
    "        else:\n",
    "            return NotImplemented  \n",
    "    def __rmul__(self, other):\n",
    "        \"\"\"Multiply a vector by a scalar\"\"\"\n",
    "        assert isinstance(other, (int, float))\n",
    "        return Vector([other*element for element in self.vec])\n",
    "  \n",
    "        "
   ]
  },
  {
   "cell_type": "code",
   "execution_count": 3,
   "metadata": {
    "collapsed": false
   },
   "outputs": [
    {
     "name": "stdout",
     "output_type": "stream",
     "text": [
      "The dot product of [3, 4, 5] and [1, 2, 3]  is 26\n",
      "The scalar product of 3 and [3, 4, 5]  is [9, 12, 15]\n",
      "The addition of [3, 4, 5] and [1, 2, 3]  is [4, 6, 8]\n",
      "The subtraction of [3, 4, 5] and [1, 2, 3]  is [2, 2, 2]\n",
      "The operation 3*x-y of x = [3, 4, 5] and y = [1, 2, 3]  is [8, 10, 12]\n"
     ]
    }
   ],
   "source": [
    "x=Vector([3,4,5])\n",
    "y=Vector([1,2,3])\n",
    "c=3\n",
    "#Vector Dot Product\n",
    "print \"The dot product of\", x.vec , \"and\" , y.vec , \" is\", x*y\n",
    "#Scalar product\n",
    "print \"The scalar product of\", c , \"and\", x.vec , \" is\", (c*x).vec\n",
    "#Addition\n",
    "print \"The addition of\", x.vec , \"and\", y.vec , \" is\", (x+y).vec\n",
    "#Subtraction \n",
    "print \"The subtraction of\", x.vec , \"and\", y.vec , \" is\", (x-y).vec\n",
    "#Combining\n",
    "print \"The operation 3*x-y of x =\", x.vec , \"and y =\", y.vec , \" is\", (3*x-y).vec"
   ]
  },
  {
   "cell_type": "code",
   "execution_count": null,
   "metadata": {
    "collapsed": true
   },
   "outputs": [],
   "source": []
  }
 ],
 "metadata": {
  "kernelspec": {
   "display_name": "Python 2",
   "language": "python",
   "name": "python2"
  },
  "language_info": {
   "codemirror_mode": {
    "name": "ipython",
    "version": 2
   },
   "file_extension": ".py",
   "mimetype": "text/x-python",
   "name": "python",
   "nbconvert_exporter": "python",
   "pygments_lexer": "ipython2",
   "version": "2.7.6"
  }
 },
 "nbformat": 4,
 "nbformat_minor": 0
}
